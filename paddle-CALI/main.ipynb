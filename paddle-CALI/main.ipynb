{
 "cells": [
  {
   "cell_type": "markdown",
   "metadata": {},
   "source": [
    "# 1 数据预处理\n"
   ]
  },
  {
   "cell_type": "code",
   "execution_count": 1,
   "metadata": {
    "execution": {
     "iopub.execute_input": "2022-10-28T13:01:37.251976Z",
     "iopub.status.busy": "2022-10-28T13:01:37.250874Z",
     "iopub.status.idle": "2022-10-28T13:01:39.430044Z",
     "shell.execute_reply": "2022-10-28T13:01:39.428814Z",
     "shell.execute_reply.started": "2022-10-28T13:01:37.251939Z"
    },
    "scrolled": true,
    "tags": []
   },
   "outputs": [],
   "source": [
    "import paddle\n",
    "import paddlenlp as ppnlp\n",
    "from paddlenlp.metrics import ChunkEvaluator\n",
    "from functools import partial\n",
    "from paddlenlp.data import Stack, Pad, Tuple"
   ]
  },
  {
   "cell_type": "markdown",
   "metadata": {},
   "source": [
    "## 1.1 加载自定义数据集"
   ]
  },
  {
   "cell_type": "code",
   "execution_count": 2,
   "metadata": {
    "execution": {
     "iopub.execute_input": "2022-10-28T13:01:39.432638Z",
     "iopub.status.busy": "2022-10-28T13:01:39.432007Z",
     "iopub.status.idle": "2022-10-28T13:01:45.013965Z",
     "shell.execute_reply": "2022-10-28T13:01:45.011561Z",
     "shell.execute_reply.started": "2022-10-28T13:01:39.432604Z"
    },
    "scrolled": true,
    "tags": []
   },
   "outputs": [],
   "source": [
    "from paddlenlp.datasets import load_dataset\n",
    "import pandas as pd\n",
    "\n",
    "def read(data_path,is_test = False):\n",
    "    if not is_test:\n",
    "        data = pd.read_csv(data_path,encoding=\"gb18030\")\n",
    "        data.drop(index=18282,inplace=True)\n",
    "        for index,row in data.iterrows():\n",
    "            sentence = row[1]\n",
    "            labels = row[2]\n",
    "            yield {'text': sentence, 'label': labels}\n",
    "    else:\n",
    "        data = pd.read_csv(data_path,skiprows=40000,nrows=10000,encoding=\"gb18030\")\n",
    "        for index,row in data.iterrows():\n",
    "            sentence = row[1]\n",
    "            yield {'text': sentence}\n",
    "\n",
    "train_ds = load_dataset(read, data_path=\"./work/BDCI/train.csv\",is_test = False,lazy=False)\n",
    "# test_ds = load_dataset(read, data_path=\"./work/BDCI/train.csv\",is_test = True,lazy=False) "
   ]
  },
  {
   "cell_type": "markdown",
   "metadata": {},
   "source": [
    "## 1.2 定义数据转换函数，实现文字编码"
   ]
  },
  {
   "cell_type": "code",
   "execution_count": 3,
   "metadata": {
    "execution": {
     "iopub.execute_input": "2022-10-28T13:01:45.017653Z",
     "iopub.status.busy": "2022-10-28T13:01:45.017084Z",
     "iopub.status.idle": "2022-10-28T13:01:45.025760Z",
     "shell.execute_reply": "2022-10-28T13:01:45.024173Z",
     "shell.execute_reply.started": "2022-10-28T13:01:45.017597Z"
    },
    "scrolled": true,
    "tags": []
   },
   "outputs": [],
   "source": [
    "def convert_example(example, tokenizer, max_seq_length=256,is_test=False):\n",
    "    encoded_inputs = tokenizer(example[\"text\"], max_seq_len=max_seq_length)\n",
    "    input_ids = encoded_inputs[\"input_ids\"]\n",
    "    token_type_ids = encoded_inputs[\"token_type_ids\"]\n",
    "    if not is_test:\n",
    "        label = [example[\"label\"]]\n",
    "        return input_ids, token_type_ids, label\n",
    "    else:\n",
    "        return input_ids, token_type_ids"
   ]
  },
  {
   "cell_type": "markdown",
   "metadata": {},
   "source": [
    "## 1.3 构造偏函数，将单条数据进行转换\n",
    "此处需先定义tokenizer，再定义偏函数"
   ]
  },
  {
   "cell_type": "code",
   "execution_count": 4,
   "metadata": {
    "execution": {
     "iopub.execute_input": "2022-10-28T13:01:45.030221Z",
     "iopub.status.busy": "2022-10-28T13:01:45.029490Z",
     "iopub.status.idle": "2022-10-28T13:01:45.244571Z",
     "shell.execute_reply": "2022-10-28T13:01:45.243538Z",
     "shell.execute_reply.started": "2022-10-28T13:01:45.030170Z"
    },
    "scrolled": true
   },
   "outputs": [
    {
     "name": "stderr",
     "output_type": "stream",
     "text": [
      "[2022-10-28 21:01:45,033] [    INFO] - Downloading vocab.txt from https://paddlenlp.bj.bcebos.com/models/transformers/ernie/vocab.txt\n",
      "100%|██████████| 90/90 [00:00<00:00, 2649.18it/s]\n"
     ]
    }
   ],
   "source": [
    "batch_size = 64\n",
    "max_seq_length = 312\n",
    "tokenizer = ppnlp.transformers.ErnieTokenizer.from_pretrained('ernie-1.0')"
   ]
  },
  {
   "cell_type": "code",
   "execution_count": 5,
   "metadata": {
    "execution": {
     "iopub.execute_input": "2022-10-28T13:01:45.246192Z",
     "iopub.status.busy": "2022-10-28T13:01:45.245849Z",
     "iopub.status.idle": "2022-10-28T13:01:45.381150Z",
     "shell.execute_reply": "2022-10-28T13:01:45.378286Z",
     "shell.execute_reply.started": "2022-10-28T13:01:45.246163Z"
    },
    "scrolled": true,
    "tags": []
   },
   "outputs": [
    {
     "name": "stdout",
     "output_type": "stream",
     "text": [
      "([1, 1073, 1169, 68, 2201, 4, 654, 4, 2670, 17, 5010, 136, 5010, 139, 39, 21, 4, 2746, 495, 4, 644, 219, 244, 484, 904, 308, 8, 4, 590, 12, 68, 73, 4, 87, 11, 644, 219, 244, 3376, 181, 488, 1769, 231, 1342, 4, 22, 171, 612, 8, 68, 2201, 1169, 1860, 2785, 1073, 4, 1079, 239, 9, 195, 1510, 1342, 681, 17, 627, 27, 136, 4, 145, 239, 1485, 192, 8, 119, 1387, 4225, 183, 12043, 803, 1079, 49, 4, 171, 612, 8, 16, 231, 4, 160, 39, 28, 1005, 12043, 1751, 181, 99, 663, 1631, 121, 8, 119, 594, 788, 245, 160, 39, 730, 1005, 12043, 644, 219, 244, 1751, 181, 99, 12, 222, 8, 119, 72, 245, 37, 1541, 17, 5010, 136, 5010, 2], [0, 0, 0, 0, 0, 0, 0, 0, 0, 0, 0, 0, 0, 0, 0, 0, 0, 0, 0, 0, 0, 0, 0, 0, 0, 0, 0, 0, 0, 0, 0, 0, 0, 0, 0, 0, 0, 0, 0, 0, 0, 0, 0, 0, 0, 0, 0, 0, 0, 0, 0, 0, 0, 0, 0, 0, 0, 0, 0, 0, 0, 0, 0, 0, 0, 0, 0, 0, 0, 0, 0, 0, 0, 0, 0, 0, 0, 0, 0, 0, 0, 0, 0, 0, 0, 0, 0, 0, 0, 0, 0, 0, 0, 0, 0, 0, 0, 0, 0, 0, 0, 0, 0, 0, 0, 0, 0, 0, 0, 0, 0, 0, 0, 0, 0, 0, 0, 0, 0, 0, 0, 0, 0, 0, 0, 0, 0, 0], [12])\n"
     ]
    },
    {
     "ename": "NameError",
     "evalue": "name 'test_ds' is not defined",
     "output_type": "error",
     "traceback": [
      "\u001b[0;31m---------------------------------------------------------------------------\u001b[0m",
      "\u001b[0;31mNameError\u001b[0m                                 Traceback (most recent call last)",
      "\u001b[0;32m/tmp/ipykernel_176/451446343.py\u001b[0m in \u001b[0;36m<module>\u001b[0;34m\u001b[0m\n\u001b[1;32m      1\u001b[0m \u001b[0mprint\u001b[0m\u001b[0;34m(\u001b[0m\u001b[0mconvert_example\u001b[0m\u001b[0;34m(\u001b[0m\u001b[0mtrain_ds\u001b[0m\u001b[0;34m[\u001b[0m\u001b[0;36m100\u001b[0m\u001b[0;34m]\u001b[0m\u001b[0;34m,\u001b[0m\u001b[0mtokenizer\u001b[0m\u001b[0;34m=\u001b[0m\u001b[0mtokenizer\u001b[0m\u001b[0;34m,\u001b[0m\u001b[0mmax_seq_length\u001b[0m\u001b[0;34m=\u001b[0m\u001b[0;36m128\u001b[0m\u001b[0;34m,\u001b[0m\u001b[0mis_test\u001b[0m\u001b[0;34m=\u001b[0m\u001b[0;32mFalse\u001b[0m\u001b[0;34m)\u001b[0m\u001b[0;34m)\u001b[0m\u001b[0;34m\u001b[0m\u001b[0;34m\u001b[0m\u001b[0m\n\u001b[0;32m----> 2\u001b[0;31m \u001b[0mprint\u001b[0m\u001b[0;34m(\u001b[0m\u001b[0mconvert_example\u001b[0m\u001b[0;34m(\u001b[0m\u001b[0mtest_ds\u001b[0m\u001b[0;34m[\u001b[0m\u001b[0;36m100\u001b[0m\u001b[0;34m]\u001b[0m\u001b[0;34m,\u001b[0m\u001b[0mtokenizer\u001b[0m\u001b[0;34m=\u001b[0m\u001b[0mtokenizer\u001b[0m\u001b[0;34m,\u001b[0m\u001b[0mmax_seq_length\u001b[0m\u001b[0;34m=\u001b[0m\u001b[0;36m128\u001b[0m\u001b[0;34m,\u001b[0m\u001b[0mis_test\u001b[0m\u001b[0;34m=\u001b[0m\u001b[0;32mTrue\u001b[0m\u001b[0;34m)\u001b[0m\u001b[0;34m)\u001b[0m\u001b[0;34m\u001b[0m\u001b[0;34m\u001b[0m\u001b[0m\n\u001b[0m",
      "\u001b[0;31mNameError\u001b[0m: name 'test_ds' is not defined"
     ]
    }
   ],
   "source": [
    "print(convert_example(train_ds[100],tokenizer=tokenizer,max_seq_length=128,is_test=False))\n",
    "print(convert_example(test_ds[100],tokenizer=tokenizer,max_seq_length=128,is_test=True))"
   ]
  },
  {
   "cell_type": "markdown",
   "metadata": {},
   "source": [
    "## 1.4 构造batchify_fn，在batch数据构造时进行padding"
   ]
  },
  {
   "cell_type": "code",
   "execution_count": null,
   "metadata": {
    "execution": {
     "iopub.status.busy": "2022-10-28T13:01:45.382748Z",
     "iopub.status.idle": "2022-10-28T13:01:45.383179Z",
     "shell.execute_reply": "2022-10-28T13:01:45.382971Z",
     "shell.execute_reply.started": "2022-10-28T13:01:45.382956Z"
    },
    "scrolled": true
   },
   "outputs": [],
   "source": [
    "batchify_fn_train = lambda samples, fn=Tuple(\n",
    "    Pad(axis=0, pad_val=tokenizer.pad_token_id),  # input\n",
    "    Pad(axis=0, pad_val=tokenizer.pad_token_type_id),  # segment\n",
    "    Stack(dtype=\"int64\")  # label\n",
    "): [data for data in fn(samples)]\n",
    "batchify_fn_test = lambda samples, fn=Tuple(\n",
    "    Pad(axis=0, pad_val=tokenizer.pad_token_id),  # input\n",
    "    Pad(axis=0, pad_val=tokenizer.pad_token_type_id),  # segment\n",
    "): [data for data in fn(samples)]"
   ]
  },
  {
   "cell_type": "markdown",
   "metadata": {},
   "source": [
    "## 1.5 构造dataloader"
   ]
  },
  {
   "cell_type": "code",
   "execution_count": null,
   "metadata": {
    "execution": {
     "iopub.status.busy": "2022-10-28T13:01:45.384664Z",
     "iopub.status.idle": "2022-10-28T13:01:45.385403Z",
     "shell.execute_reply": "2022-10-28T13:01:45.385219Z",
     "shell.execute_reply.started": "2022-10-28T13:01:45.385201Z"
    },
    "scrolled": true
   },
   "outputs": [],
   "source": [
    "trans_func = partial(\n",
    "    convert_example,\n",
    "    tokenizer = tokenizer,    \n",
    "    max_seq_length = max_seq_length,\n",
    "    is_test = False)\n",
    "\n",
    "train_ds = train_ds.map(trans_func)\n",
    "# test_ds = test_ds.map(trans_func)\n",
    "\n"
   ]
  },
  {
   "cell_type": "code",
   "execution_count": null,
   "metadata": {
    "execution": {
     "iopub.status.busy": "2022-10-28T13:01:45.386570Z",
     "iopub.status.idle": "2022-10-28T13:01:45.386923Z",
     "shell.execute_reply": "2022-10-28T13:01:45.386772Z",
     "shell.execute_reply.started": "2022-10-28T13:01:45.386756Z"
    },
    "scrolled": true
   },
   "outputs": [],
   "source": [
    "train_loader = paddle.io.DataLoader(\n",
    "        dataset=train_ds,\n",
    "        batch_size=64,\n",
    "        collate_fn=batchify_fn_train,\n",
    "        shuffle=True,\n",
    "        return_list=True)\n",
    "     \n",
    "test_loader = paddle.io.DataLoader(\n",
    "        dataset=test_ds,\n",
    "        batch_size=64,\n",
    "        shuffle=False,\n",
    "        collate_fn=batchify_fn_test,\n",
    "        return_list=True)"
   ]
  },
  {
   "cell_type": "markdown",
   "metadata": {},
   "source": [
    "# 2.定义分类模型"
   ]
  },
  {
   "cell_type": "code",
   "execution_count": null,
   "metadata": {
    "execution": {
     "iopub.status.busy": "2022-10-28T13:01:45.388324Z",
     "iopub.status.idle": "2022-10-28T13:01:45.388674Z",
     "shell.execute_reply": "2022-10-28T13:01:45.388501Z",
     "shell.execute_reply.started": "2022-10-28T13:01:45.388487Z"
    },
    "scrolled": true
   },
   "outputs": [],
   "source": [
    "model = ppnlp.transformers.ErnieForSequenceClassification.from_pretrained('ernie-1.0', num_classes=32)"
   ]
  },
  {
   "cell_type": "markdown",
   "metadata": {},
   "source": [
    "# 3 训练模型"
   ]
  },
  {
   "cell_type": "code",
   "execution_count": null,
   "metadata": {
    "execution": {
     "iopub.status.busy": "2022-10-28T13:01:45.390036Z",
     "iopub.status.idle": "2022-10-28T13:01:45.390361Z",
     "shell.execute_reply": "2022-10-28T13:01:45.390213Z",
     "shell.execute_reply.started": "2022-10-28T13:01:45.390199Z"
    },
    "scrolled": true
   },
   "outputs": [],
   "source": [
    "optimizer = paddle.optimizer.AdamW(learning_rate=2e-5, parameters=model.parameters())\n",
    "criterion = paddle.nn.loss.CrossEntropyLoss()\n",
    "metric = paddle.metric.Accuracy()\n",
    "epochs = 20\n"
   ]
  },
  {
   "cell_type": "code",
   "execution_count": null,
   "metadata": {
    "execution": {
     "iopub.status.busy": "2022-10-28T13:01:45.391931Z",
     "iopub.status.idle": "2022-10-28T13:01:45.392267Z",
     "shell.execute_reply": "2022-10-28T13:01:45.392111Z",
     "shell.execute_reply.started": "2022-10-28T13:01:45.392098Z"
    },
    "scrolled": true
   },
   "outputs": [],
   "source": [
    "import paddle.nn.functional as F\n",
    "def train(model,train_loader):\n",
    "    global_step = 0\n",
    "    for epoch in range(1, epochs + 1):\n",
    "        for step, batch in enumerate(train_loader, start=1):\n",
    "            input_ids, segment_ids, labels = batch\n",
    "            logits = model(input_ids, segment_ids)\n",
    "            loss = criterion(logits, labels)\n",
    "            probs = F.softmax(logits, axis=1)\n",
    "            correct = metric.compute(probs, labels)\n",
    "            metric.update(correct)\n",
    "            acc = metric.accumulate()\n",
    "            global_step += 1\n",
    "            \n",
    "            if global_step % 100 == 0 :\n",
    "                print(\"global step %d, epoch: %d, batch: %d, loss: %.5f, acc: %.5f\" % (global_step, epoch, step, loss, acc))\n",
    "            # 反向梯度回传，更新参数\n",
    "            loss.backward()\n",
    "            optimizer.step()\n",
    "            optimizer.clear_grad()\n",
    "    model.save_pretrained('/home/aistudio/checkpoint')\n",
    "    tokenizer.save_pretrained('/home/aistudio/checkpoint')"
   ]
  },
  {
   "cell_type": "code",
   "execution_count": null,
   "metadata": {
    "execution": {
     "iopub.status.busy": "2022-10-28T13:01:45.393399Z",
     "iopub.status.idle": "2022-10-28T13:01:45.393772Z",
     "shell.execute_reply": "2022-10-28T13:01:45.393594Z",
     "shell.execute_reply.started": "2022-10-28T13:01:45.393579Z"
    },
    "scrolled": true,
    "tags": []
   },
   "outputs": [],
   "source": [
    "train(model,train_loader)"
   ]
  },
  {
   "cell_type": "markdown",
   "metadata": {},
   "source": [
    "# 4 模型预测"
   ]
  },
  {
   "cell_type": "markdown",
   "metadata": {},
   "source": [
    "## 4.1 加载模型"
   ]
  },
  {
   "cell_type": "code",
   "execution_count": null,
   "metadata": {
    "execution": {
     "iopub.status.busy": "2022-10-28T13:01:45.395448Z",
     "iopub.status.idle": "2022-10-28T13:01:45.395791Z",
     "shell.execute_reply": "2022-10-28T13:01:45.395630Z",
     "shell.execute_reply.started": "2022-10-28T13:01:45.395617Z"
    },
    "scrolled": true
   },
   "outputs": [],
   "source": [
    "model = ppnlp.transformers.ErnieForSequenceClassification.from_pretrained('ernie-1.0', num_classes=32)\n",
    "model_dict = paddle.load('/home/aistudio/checkpoint/model_state.pdparams')\n",
    "model.set_dict(model_dict)"
   ]
  },
  {
   "cell_type": "markdown",
   "metadata": {},
   "source": [
    "## 4.2 在测试集上预测"
   ]
  },
  {
   "cell_type": "code",
   "execution_count": null,
   "metadata": {
    "execution": {
     "iopub.status.busy": "2022-10-28T13:01:45.397074Z",
     "iopub.status.idle": "2022-10-28T13:01:45.397389Z",
     "shell.execute_reply": "2022-10-28T13:01:45.397248Z",
     "shell.execute_reply.started": "2022-10-28T13:01:45.397235Z"
    },
    "scrolled": true
   },
   "outputs": [],
   "source": [
    "# label_map = dict(zip(label_idx.values(),label_idx.keys()))\n",
    "# model.eval()\n",
    "# predictions = []\n",
    "# for input_ids, segment_ids in test_loader:\n",
    "#     logits = model(input_ids, segment_ids)\n",
    "#     probs = F.softmax(logits, axis=1)  \n",
    "#     idx = paddle.argmax(probs, axis=1).numpy()\n",
    "#     idx = idx.tolist()\n",
    "#     labels = [label_map[i] for i in idx]\n",
    "#     predictions.extend(labels)"
   ]
  },
  {
   "cell_type": "code",
   "execution_count": null,
   "metadata": {
    "execution": {
     "iopub.status.busy": "2022-10-28T13:01:45.398855Z",
     "iopub.status.idle": "2022-10-28T13:01:45.399205Z",
     "shell.execute_reply": "2022-10-28T13:01:45.399033Z",
     "shell.execute_reply.started": "2022-10-28T13:01:45.399021Z"
    },
    "scrolled": true
   },
   "outputs": [],
   "source": [
    "# predictions[:10]"
   ]
  },
  {
   "cell_type": "code",
   "execution_count": null,
   "metadata": {
    "execution": {
     "iopub.status.busy": "2022-10-28T13:01:45.400524Z",
     "iopub.status.idle": "2022-10-28T13:01:45.400874Z",
     "shell.execute_reply": "2022-10-28T13:01:45.400703Z",
     "shell.execute_reply.started": "2022-10-28T13:01:45.400690Z"
    },
    "scrolled": true
   },
   "outputs": [],
   "source": [
    "def pre_read(data_path):\n",
    "    data = pd.read_csv(data_path,encoding=\"utf-8\")\n",
    "    for index,row in data.iterrows():\n",
    "        sentence = row[1]\n",
    "        yield {'text': sentence}\n",
    "\n",
    "pre_func = partial(\n",
    "    convert_example,\n",
    "    tokenizer = tokenizer,    \n",
    "    max_seq_length = max_seq_length,\n",
    "    is_test = True)\n",
    "\n",
    "\n",
    "pre_loader = load_dataset(pre_read, data_path=\"./work/BDCI/testA.csv\",lazy=False) \n",
    "pre_ds = pre_loader.map(pre_func)       \n",
    "pre_loader = paddle.io.DataLoader(\n",
    "        dataset=pre_ds,\n",
    "        batch_size=64,\n",
    "        shuffle=False,\n",
    "        collate_fn=batchify_fn_test,\n",
    "        return_list=True)\n",
    "model.eval()\n",
    "predictions = []\n",
    "for input_ids, segment_ids in pre_loader:\n",
    "    logits = model(input_ids, segment_ids)\n",
    "    probs = F.softmax(logits, axis=1)  \n",
    "    idx = paddle.argmax(probs, axis=1).numpy()\n",
    "    idx = idx.tolist()\n",
    "    labels = [i for i in idx]\n",
    "    predictions.extend(labels)"
   ]
  },
  {
   "cell_type": "code",
   "execution_count": null,
   "metadata": {
    "execution": {
     "iopub.status.busy": "2022-10-28T13:01:45.401992Z",
     "iopub.status.idle": "2022-10-28T13:01:45.402313Z",
     "shell.execute_reply": "2022-10-28T13:01:45.402167Z",
     "shell.execute_reply.started": "2022-10-28T13:01:45.402154Z"
    },
    "scrolled": true,
    "tags": []
   },
   "outputs": [],
   "source": [
    "data = pd.read_csv(data_path=\"./work/BDCI/testA.csv\",encoding=\"utf-8\")\n",
    "df = pd.DataFrame(data={\"id\":data[\"id\"],\"label\":predictions})\n",
    "df.to_csv(\"submisstion.csv\")"
   ]
  }
 ],
 "metadata": {
  "kernelspec": {
   "display_name": "Python 3",
   "language": "python",
   "name": "py35-paddle1.2.0"
  },
  "language_info": {
   "codemirror_mode": {
    "name": "ipython",
    "version": 3
   },
   "file_extension": ".py",
   "mimetype": "text/x-python",
   "name": "python",
   "nbconvert_exporter": "python",
   "pygments_lexer": "ipython3",
   "version": "3.7.4"
  }
 },
 "nbformat": 4,
 "nbformat_minor": 4
}
