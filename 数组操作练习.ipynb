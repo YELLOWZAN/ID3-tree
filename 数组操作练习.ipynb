{
 "cells": [
  {
   "cell_type": "code",
   "execution_count": null,
   "id": "2b66caf7-7771-400c-bd9d-b5607b26df4d",
   "metadata": {
    "tags": []
   },
   "outputs": [],
   "source": [
    "import numpy as np"
   ]
  },
  {
   "cell_type": "markdown",
   "id": "485bbd48-5e0f-4b3c-9970-8632636403b7",
   "metadata": {},
   "source": [
    "# 如何从数组np.arange(15)中提取5到10之间的所有数字？ "
   ]
  },
  {
   "cell_type": "code",
   "execution_count": 3,
   "id": "ca4e8e81-b252-44dd-a303-583f3b06a853",
   "metadata": {
    "tags": []
   },
   "outputs": [
    {
     "name": "stdout",
     "output_type": "stream",
     "text": [
      "[ 5  6  7  8  9 10]\n"
     ]
    }
   ],
   "source": [
    "import numpy as np\n",
    "array = np.arange(15)\n",
    "index = np.where((array>=5) & (array<=10))\n",
    "print(array[index])"
   ]
  },
  {
   "cell_type": "markdown",
   "id": "874fbe02-63fa-46df-ad5d-7433a6b84ed8",
   "metadata": {},
   "source": [
    "# 如何交换数组np.arange(9).reshape(3,3)中的第1列和第2列？"
   ]
  },
  {
   "cell_type": "code",
   "execution_count": 4,
   "id": "777b46f3-3fa5-47ae-8a58-ce2c10ff1c6a",
   "metadata": {
    "tags": []
   },
   "outputs": [
    {
     "name": "stdout",
     "output_type": "stream",
     "text": [
      "[[1 0 2]\n",
      " [4 3 5]\n",
      " [7 6 8]]\n"
     ]
    }
   ],
   "source": [
    "import numpy as np\n",
    "a = np.arange(9).reshape(3,3)\n",
    "a = a[:,[1,0,2]]\n",
    "print(a)"
   ]
  },
  {
   "cell_type": "markdown",
   "id": "1acf6f90-3c97-43aa-8aa8-2be5057f1509",
   "metadata": {},
   "source": [
    "# 如何交换数组np.arange(9).reshape(3,3)中的第1行和第2行？"
   ]
  },
  {
   "cell_type": "code",
   "execution_count": 5,
   "id": "acbcaf8c-3159-4a25-b26a-beedd9389891",
   "metadata": {
    "tags": []
   },
   "outputs": [
    {
     "name": "stdout",
     "output_type": "stream",
     "text": [
      "[[3 4 5]\n",
      " [0 1 2]\n",
      " [6 7 8]]\n"
     ]
    }
   ],
   "source": [
    "import numpy as np\n",
    "a = np.arange(9).reshape(3,3)\n",
    "a = a[[1,0,2],:]\n",
    "print(a)"
   ]
  },
  {
   "cell_type": "markdown",
   "id": "f41ea91e-2aed-4009-bd67-d845d5a1cc6d",
   "metadata": {},
   "source": [
    "# 如何获取数组a = np.array([1,2,3,2,3,4,3,4,5,6])和数组b = np.array([7,2,10,2,7,4,9,4,9,8])之间的共同元素？"
   ]
  },
  {
   "cell_type": "code",
   "execution_count": 6,
   "id": "40bea7cf-c832-428f-9fe2-b2d50b215def",
   "metadata": {
    "tags": []
   },
   "outputs": [
    {
     "name": "stdout",
     "output_type": "stream",
     "text": [
      "[2 4]\n"
     ]
    }
   ],
   "source": [
    "import numpy as np\n",
    "a = np.array([1,2,3,2,3,4,3,4,5,6])\n",
    "b = np.array([7,2,10,2,7,4,9,4,9,8])\n",
    "c = np.intersect1d(a,b)\n",
    "print(c)"
   ]
  },
  {
   "cell_type": "markdown",
   "id": "b8741927-45ed-4f40-9aa2-fb48b2b22c2a",
   "metadata": {},
   "source": [
    "# 如何查找数组np.array([1,2,3,2,3,4,3,4,5,6])中的唯一值的数量？"
   ]
  },
  {
   "cell_type": "code",
   "execution_count": 7,
   "id": "e9245f6f-7f54-49e2-a9e4-3eee3da0478f",
   "metadata": {
    "tags": []
   },
   "outputs": [
    {
     "name": "stdout",
     "output_type": "stream",
     "text": [
      "6\n"
     ]
    }
   ],
   "source": [
    "import numpy as np\n",
    "a = np.array([1,2,3,2,3,4,3,4,5,6])\n",
    "b = np.unique(a)\n",
    "print(len(b))"
   ]
  },
  {
   "cell_type": "markdown",
   "id": "2edfb187-1e04-42a4-ad23-96247192355a",
   "metadata": {},
   "source": [
    "# 如何找到二维数组np.arange(9).reshape(3,3)每一行中的最大值？"
   ]
  },
  {
   "cell_type": "code",
   "execution_count": 8,
   "id": "ea7c849e-f557-44cc-9688-cadfbd547932",
   "metadata": {
    "tags": []
   },
   "outputs": [
    {
     "name": "stdout",
     "output_type": "stream",
     "text": [
      "[2 5 8]\n"
     ]
    }
   ],
   "source": [
    "import numpy as np\n",
    "a = np.arange(9).reshape(3,3)\n",
    "b = np.max(a,axis=1)\n",
    "print(b)"
   ]
  },
  {
   "cell_type": "markdown",
   "id": "e9a054bc-0ea0-46dd-b43b-fa75a2753fa1",
   "metadata": {},
   "source": [
    "# 如何计算数组a = np.array([1,2,3,2,3,4,3,4,5,6])和数组b = np.array([7,2,10,2,7,4,9,4,9,8])之间的欧式距离？"
   ]
  },
  {
   "cell_type": "code",
   "execution_count": 9,
   "id": "2b97f406-af38-4fcc-a8af-4d46ed5fa9cd",
   "metadata": {
    "tags": []
   },
   "outputs": [
    {
     "name": "stdout",
     "output_type": "stream",
     "text": [
      "12.529964086141668\n"
     ]
    }
   ],
   "source": [
    "import numpy as np\n",
    "a = np.array([1,2,3,2,3,4,3,4,5,6])\n",
    "b = np.array([7,2,10,2,7,4,9,4,9,8])\n",
    "dist = np.sqrt(np.sum(np.square(a - b)))\n",
    "print(dist)"
   ]
  },
  {
   "cell_type": "markdown",
   "id": "ff8ca8e7-84c2-4d57-8f54-91efc2572224",
   "metadata": {},
   "source": [
    "# 如何知道数组np.array([7,2,10,2,7,4,9,4,9,8])中的第二大值是多少？"
   ]
  },
  {
   "cell_type": "code",
   "execution_count": 10,
   "id": "3631687e-aea2-4c6d-85ee-5a9a1c674c43",
   "metadata": {
    "tags": []
   },
   "outputs": [
    {
     "name": "stdout",
     "output_type": "stream",
     "text": [
      "9\n"
     ]
    }
   ],
   "source": [
    "import numpy as np\n",
    "a = np.array([7,2,10,2,7,4,9,4,9,8])\n",
    "a_sorted = np.sort(a) # 对数组进行升序排序\n",
    "second_max = a_sorted[-2] # 取倒数第二个元素\n",
    "print(second_max)"
   ]
  },
  {
   "cell_type": "markdown",
   "id": "f591bbd1-ec6f-4054-aef7-f2ae45281afb",
   "metadata": {},
   "source": [
    "# 如何知道数组np.array([7,2,10,2,7,2,4,9,4,9,8])中出现频率最高的值是什么？"
   ]
  },
  {
   "cell_type": "code",
   "execution_count": 11,
   "id": "854f17c4-7de4-4e10-b5ef-f6a976da58f6",
   "metadata": {
    "tags": []
   },
   "outputs": [
    {
     "name": "stdout",
     "output_type": "stream",
     "text": [
      "2\n"
     ]
    }
   ],
   "source": [
    "import numpy as np\n",
    "a = np.array([7,2,10,2,7,2,4,9,4,9,8])\n",
    "counts = np.bincount(a) # 对数组中的每个元素计数\n",
    "max_freq = np.argmax(counts) # 找出计数最大的元素\n",
    "print(max_freq)"
   ]
  },
  {
   "cell_type": "code",
   "execution_count": null,
   "id": "aa500d9a-3a5e-4eb8-9b21-0128555b46e4",
   "metadata": {},
   "outputs": [],
   "source": []
  }
 ],
 "metadata": {
  "kernelspec": {
   "display_name": "Python 3 (ipykernel)",
   "language": "python",
   "name": "python3"
  },
  "language_info": {
   "codemirror_mode": {
    "name": "ipython",
    "version": 3
   },
   "file_extension": ".py",
   "mimetype": "text/x-python",
   "name": "python",
   "nbconvert_exporter": "python",
   "pygments_lexer": "ipython3",
   "version": "3.10.1"
  }
 },
 "nbformat": 4,
 "nbformat_minor": 5
}
