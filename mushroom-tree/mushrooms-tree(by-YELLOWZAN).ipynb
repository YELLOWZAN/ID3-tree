{
 "cells": [
  {
   "cell_type": "markdown",
   "metadata": {},
   "source": [
    "## 作者：大数据20黄德攒\n",
    "## 环境：Anaconda python3.9.12\n",
    "## IDE：VScode"
   ]
  },
  {
   "cell_type": "code",
   "execution_count": 1,
   "metadata": {},
   "outputs": [],
   "source": [
    "#导入相关库\n",
    "import pandas as pd\n",
    "import numpy as np\n",
    "from matplotlib import pyplot as plt\n",
    "from sklearn.model_selection import train_test_split\n",
    "from sklearn.model_selection import cross_val_score\n"
   ]
  },
  {
   "cell_type": "code",
   "execution_count": 2,
   "metadata": {},
   "outputs": [],
   "source": [
    "#数据\n",
    "from sklearn import tree\n",
    "from sklearn.datasets import load_wine\n",
    "from sklearn.model_selection import train_test_split    #切分数据集，训练集和测试集\n"
   ]
  },
  {
   "cell_type": "code",
   "execution_count": 5,
   "metadata": {},
   "outputs": [
    {
     "data": {
      "text/html": [
       "<div>\n",
       "<style scoped>\n",
       "    .dataframe tbody tr th:only-of-type {\n",
       "        vertical-align: middle;\n",
       "    }\n",
       "\n",
       "    .dataframe tbody tr th {\n",
       "        vertical-align: top;\n",
       "    }\n",
       "\n",
       "    .dataframe thead th {\n",
       "        text-align: right;\n",
       "    }\n",
       "</style>\n",
       "<table border=\"1\" class=\"dataframe\">\n",
       "  <thead>\n",
       "    <tr style=\"text-align: right;\">\n",
       "      <th></th>\n",
       "      <th>class</th>\n",
       "      <th>cap-shape</th>\n",
       "      <th>cap-surface</th>\n",
       "      <th>cap-color</th>\n",
       "      <th>bruises</th>\n",
       "      <th>odor</th>\n",
       "      <th>gill-attachment</th>\n",
       "      <th>gill-spacing</th>\n",
       "      <th>gill-size</th>\n",
       "      <th>gill-color</th>\n",
       "      <th>...</th>\n",
       "      <th>stalk-surface-below-ring</th>\n",
       "      <th>stalk-color-above-ring</th>\n",
       "      <th>stalk-color-below-ring</th>\n",
       "      <th>veil-type</th>\n",
       "      <th>veil-color</th>\n",
       "      <th>ring-number</th>\n",
       "      <th>ring-type</th>\n",
       "      <th>spore-print-color</th>\n",
       "      <th>population</th>\n",
       "      <th>habitat</th>\n",
       "    </tr>\n",
       "  </thead>\n",
       "  <tbody>\n",
       "    <tr>\n",
       "      <th>0</th>\n",
       "      <td>p</td>\n",
       "      <td>x</td>\n",
       "      <td>s</td>\n",
       "      <td>n</td>\n",
       "      <td>t</td>\n",
       "      <td>p</td>\n",
       "      <td>f</td>\n",
       "      <td>c</td>\n",
       "      <td>n</td>\n",
       "      <td>k</td>\n",
       "      <td>...</td>\n",
       "      <td>s</td>\n",
       "      <td>w</td>\n",
       "      <td>w</td>\n",
       "      <td>p</td>\n",
       "      <td>w</td>\n",
       "      <td>o</td>\n",
       "      <td>p</td>\n",
       "      <td>k</td>\n",
       "      <td>s</td>\n",
       "      <td>u</td>\n",
       "    </tr>\n",
       "    <tr>\n",
       "      <th>1</th>\n",
       "      <td>e</td>\n",
       "      <td>x</td>\n",
       "      <td>s</td>\n",
       "      <td>y</td>\n",
       "      <td>t</td>\n",
       "      <td>a</td>\n",
       "      <td>f</td>\n",
       "      <td>c</td>\n",
       "      <td>b</td>\n",
       "      <td>k</td>\n",
       "      <td>...</td>\n",
       "      <td>s</td>\n",
       "      <td>w</td>\n",
       "      <td>w</td>\n",
       "      <td>p</td>\n",
       "      <td>w</td>\n",
       "      <td>o</td>\n",
       "      <td>p</td>\n",
       "      <td>n</td>\n",
       "      <td>n</td>\n",
       "      <td>g</td>\n",
       "    </tr>\n",
       "    <tr>\n",
       "      <th>2</th>\n",
       "      <td>e</td>\n",
       "      <td>b</td>\n",
       "      <td>s</td>\n",
       "      <td>w</td>\n",
       "      <td>t</td>\n",
       "      <td>l</td>\n",
       "      <td>f</td>\n",
       "      <td>c</td>\n",
       "      <td>b</td>\n",
       "      <td>n</td>\n",
       "      <td>...</td>\n",
       "      <td>s</td>\n",
       "      <td>w</td>\n",
       "      <td>w</td>\n",
       "      <td>p</td>\n",
       "      <td>w</td>\n",
       "      <td>o</td>\n",
       "      <td>p</td>\n",
       "      <td>n</td>\n",
       "      <td>n</td>\n",
       "      <td>m</td>\n",
       "    </tr>\n",
       "    <tr>\n",
       "      <th>3</th>\n",
       "      <td>p</td>\n",
       "      <td>x</td>\n",
       "      <td>y</td>\n",
       "      <td>w</td>\n",
       "      <td>t</td>\n",
       "      <td>p</td>\n",
       "      <td>f</td>\n",
       "      <td>c</td>\n",
       "      <td>n</td>\n",
       "      <td>n</td>\n",
       "      <td>...</td>\n",
       "      <td>s</td>\n",
       "      <td>w</td>\n",
       "      <td>w</td>\n",
       "      <td>p</td>\n",
       "      <td>w</td>\n",
       "      <td>o</td>\n",
       "      <td>p</td>\n",
       "      <td>k</td>\n",
       "      <td>s</td>\n",
       "      <td>u</td>\n",
       "    </tr>\n",
       "    <tr>\n",
       "      <th>4</th>\n",
       "      <td>e</td>\n",
       "      <td>x</td>\n",
       "      <td>s</td>\n",
       "      <td>g</td>\n",
       "      <td>f</td>\n",
       "      <td>n</td>\n",
       "      <td>f</td>\n",
       "      <td>w</td>\n",
       "      <td>b</td>\n",
       "      <td>k</td>\n",
       "      <td>...</td>\n",
       "      <td>s</td>\n",
       "      <td>w</td>\n",
       "      <td>w</td>\n",
       "      <td>p</td>\n",
       "      <td>w</td>\n",
       "      <td>o</td>\n",
       "      <td>e</td>\n",
       "      <td>n</td>\n",
       "      <td>a</td>\n",
       "      <td>g</td>\n",
       "    </tr>\n",
       "    <tr>\n",
       "      <th>5</th>\n",
       "      <td>e</td>\n",
       "      <td>x</td>\n",
       "      <td>y</td>\n",
       "      <td>y</td>\n",
       "      <td>t</td>\n",
       "      <td>a</td>\n",
       "      <td>f</td>\n",
       "      <td>c</td>\n",
       "      <td>b</td>\n",
       "      <td>n</td>\n",
       "      <td>...</td>\n",
       "      <td>s</td>\n",
       "      <td>w</td>\n",
       "      <td>w</td>\n",
       "      <td>p</td>\n",
       "      <td>w</td>\n",
       "      <td>o</td>\n",
       "      <td>p</td>\n",
       "      <td>k</td>\n",
       "      <td>n</td>\n",
       "      <td>g</td>\n",
       "    </tr>\n",
       "  </tbody>\n",
       "</table>\n",
       "<p>6 rows × 23 columns</p>\n",
       "</div>"
      ],
      "text/plain": [
       "  class cap-shape cap-surface cap-color bruises odor gill-attachment  \\\n",
       "0     p         x           s         n       t    p               f   \n",
       "1     e         x           s         y       t    a               f   \n",
       "2     e         b           s         w       t    l               f   \n",
       "3     p         x           y         w       t    p               f   \n",
       "4     e         x           s         g       f    n               f   \n",
       "5     e         x           y         y       t    a               f   \n",
       "\n",
       "  gill-spacing gill-size gill-color  ... stalk-surface-below-ring  \\\n",
       "0            c         n          k  ...                        s   \n",
       "1            c         b          k  ...                        s   \n",
       "2            c         b          n  ...                        s   \n",
       "3            c         n          n  ...                        s   \n",
       "4            w         b          k  ...                        s   \n",
       "5            c         b          n  ...                        s   \n",
       "\n",
       "  stalk-color-above-ring stalk-color-below-ring veil-type veil-color  \\\n",
       "0                      w                      w         p          w   \n",
       "1                      w                      w         p          w   \n",
       "2                      w                      w         p          w   \n",
       "3                      w                      w         p          w   \n",
       "4                      w                      w         p          w   \n",
       "5                      w                      w         p          w   \n",
       "\n",
       "  ring-number ring-type spore-print-color population habitat  \n",
       "0           o         p                 k          s       u  \n",
       "1           o         p                 n          n       g  \n",
       "2           o         p                 n          n       m  \n",
       "3           o         p                 k          s       u  \n",
       "4           o         e                 n          a       g  \n",
       "5           o         p                 k          n       g  \n",
       "\n",
       "[6 rows x 23 columns]"
      ]
     },
     "execution_count": 5,
     "metadata": {},
     "output_type": "execute_result"
    }
   ],
   "source": [
    "#导入CSV数据（关于蘑菇的各项特征数据表）\n",
    "import csv\n",
    "import pandas as pd\n",
    "\n",
    "\n",
    "data = pd.read_csv(\".\\data\\mushrooms.csv\")\n",
    "data.head(6)\n"
   ]
  },
  {
   "cell_type": "code",
   "execution_count": 7,
   "metadata": {},
   "outputs": [
    {
     "name": "stdout",
     "output_type": "stream",
     "text": [
      "<class 'sklearn.utils.Bunch'>\n"
     ]
    },
    {
     "data": {
      "text/plain": [
       "{'data': array([[1.423e+01, 1.710e+00, 2.430e+00, ..., 1.040e+00, 3.920e+00,\n",
       "         1.065e+03],\n",
       "        [1.320e+01, 1.780e+00, 2.140e+00, ..., 1.050e+00, 3.400e+00,\n",
       "         1.050e+03],\n",
       "        [1.316e+01, 2.360e+00, 2.670e+00, ..., 1.030e+00, 3.170e+00,\n",
       "         1.185e+03],\n",
       "        ...,\n",
       "        [1.327e+01, 4.280e+00, 2.260e+00, ..., 5.900e-01, 1.560e+00,\n",
       "         8.350e+02],\n",
       "        [1.317e+01, 2.590e+00, 2.370e+00, ..., 6.000e-01, 1.620e+00,\n",
       "         8.400e+02],\n",
       "        [1.413e+01, 4.100e+00, 2.740e+00, ..., 6.100e-01, 1.600e+00,\n",
       "         5.600e+02]]),\n",
       " 'target': array([0, 0, 0, 0, 0, 0, 0, 0, 0, 0, 0, 0, 0, 0, 0, 0, 0, 0, 0, 0, 0, 0,\n",
       "        0, 0, 0, 0, 0, 0, 0, 0, 0, 0, 0, 0, 0, 0, 0, 0, 0, 0, 0, 0, 0, 0,\n",
       "        0, 0, 0, 0, 0, 0, 0, 0, 0, 0, 0, 0, 0, 0, 0, 1, 1, 1, 1, 1, 1, 1,\n",
       "        1, 1, 1, 1, 1, 1, 1, 1, 1, 1, 1, 1, 1, 1, 1, 1, 1, 1, 1, 1, 1, 1,\n",
       "        1, 1, 1, 1, 1, 1, 1, 1, 1, 1, 1, 1, 1, 1, 1, 1, 1, 1, 1, 1, 1, 1,\n",
       "        1, 1, 1, 1, 1, 1, 1, 1, 1, 1, 1, 1, 1, 1, 1, 1, 1, 1, 1, 1, 2, 2,\n",
       "        2, 2, 2, 2, 2, 2, 2, 2, 2, 2, 2, 2, 2, 2, 2, 2, 2, 2, 2, 2, 2, 2,\n",
       "        2, 2, 2, 2, 2, 2, 2, 2, 2, 2, 2, 2, 2, 2, 2, 2, 2, 2, 2, 2, 2, 2,\n",
       "        2, 2]),\n",
       " 'frame': None,\n",
       " 'target_names': array(['class_0', 'class_1', 'class_2'], dtype='<U7'),\n",
       " 'DESCR': '.. _wine_dataset:\\n\\nWine recognition dataset\\n------------------------\\n\\n**Data Set Characteristics:**\\n\\n    :Number of Instances: 178 (50 in each of three classes)\\n    :Number of Attributes: 13 numeric, predictive attributes and the class\\n    :Attribute Information:\\n \\t\\t- Alcohol\\n \\t\\t- Malic acid\\n \\t\\t- Ash\\n\\t\\t- Alcalinity of ash  \\n \\t\\t- Magnesium\\n\\t\\t- Total phenols\\n \\t\\t- Flavanoids\\n \\t\\t- Nonflavanoid phenols\\n \\t\\t- Proanthocyanins\\n\\t\\t- Color intensity\\n \\t\\t- Hue\\n \\t\\t- OD280/OD315 of diluted wines\\n \\t\\t- Proline\\n\\n    - class:\\n            - class_0\\n            - class_1\\n            - class_2\\n\\t\\t\\n    :Summary Statistics:\\n    \\n    ============================= ==== ===== ======= =====\\n                                   Min   Max   Mean     SD\\n    ============================= ==== ===== ======= =====\\n    Alcohol:                      11.0  14.8    13.0   0.8\\n    Malic Acid:                   0.74  5.80    2.34  1.12\\n    Ash:                          1.36  3.23    2.36  0.27\\n    Alcalinity of Ash:            10.6  30.0    19.5   3.3\\n    Magnesium:                    70.0 162.0    99.7  14.3\\n    Total Phenols:                0.98  3.88    2.29  0.63\\n    Flavanoids:                   0.34  5.08    2.03  1.00\\n    Nonflavanoid Phenols:         0.13  0.66    0.36  0.12\\n    Proanthocyanins:              0.41  3.58    1.59  0.57\\n    Colour Intensity:              1.3  13.0     5.1   2.3\\n    Hue:                          0.48  1.71    0.96  0.23\\n    OD280/OD315 of diluted wines: 1.27  4.00    2.61  0.71\\n    Proline:                       278  1680     746   315\\n    ============================= ==== ===== ======= =====\\n\\n    :Missing Attribute Values: None\\n    :Class Distribution: class_0 (59), class_1 (71), class_2 (48)\\n    :Creator: R.A. Fisher\\n    :Donor: Michael Marshall (MARSHALL%PLU@io.arc.nasa.gov)\\n    :Date: July, 1988\\n\\nThis is a copy of UCI ML Wine recognition datasets.\\nhttps://archive.ics.uci.edu/ml/machine-learning-databases/wine/wine.data\\n\\nThe data is the results of a chemical analysis of wines grown in the same\\nregion in Italy by three different cultivators. There are thirteen different\\nmeasurements taken for different constituents found in the three types of\\nwine.\\n\\nOriginal Owners: \\n\\nForina, M. et al, PARVUS - \\nAn Extendible Package for Data Exploration, Classification and Correlation. \\nInstitute of Pharmaceutical and Food Analysis and Technologies,\\nVia Brigata Salerno, 16147 Genoa, Italy.\\n\\nCitation:\\n\\nLichman, M. (2013). UCI Machine Learning Repository\\n[https://archive.ics.uci.edu/ml]. Irvine, CA: University of California,\\nSchool of Information and Computer Science. \\n\\n.. topic:: References\\n\\n  (1) S. Aeberhard, D. Coomans and O. de Vel, \\n  Comparison of Classifiers in High Dimensional Settings, \\n  Tech. Rep. no. 92-02, (1992), Dept. of Computer Science and Dept. of  \\n  Mathematics and Statistics, James Cook University of North Queensland. \\n  (Also submitted to Technometrics). \\n\\n  The data was used with many others for comparing various \\n  classifiers. The classes are separable, though only RDA \\n  has achieved 100% correct classification. \\n  (RDA : 100%, QDA 99.4%, LDA 98.9%, 1NN 96.1% (z-transformed data)) \\n  (All results using the leave-one-out technique) \\n\\n  (2) S. Aeberhard, D. Coomans and O. de Vel, \\n  \"THE CLASSIFICATION PERFORMANCE OF RDA\" \\n  Tech. Rep. no. 92-01, (1992), Dept. of Computer Science and Dept. of \\n  Mathematics and Statistics, James Cook University of North Queensland. \\n  (Also submitted to Journal of Chemometrics).\\n',\n",
       " 'feature_names': ['alcohol',\n",
       "  'malic_acid',\n",
       "  'ash',\n",
       "  'alcalinity_of_ash',\n",
       "  'magnesium',\n",
       "  'total_phenols',\n",
       "  'flavanoids',\n",
       "  'nonflavanoid_phenols',\n",
       "  'proanthocyanins',\n",
       "  'color_intensity',\n",
       "  'hue',\n",
       "  'od280/od315_of_diluted_wines',\n",
       "  'proline']}"
      ]
     },
     "execution_count": 7,
     "metadata": {},
     "output_type": "execute_result"
    }
   ],
   "source": [
    "wine=load_wine()\n",
    "print(type(wine))   #--------------<class 'sklearn.utils.Bunch'>\n",
    "wine\n"
   ]
  },
  {
   "cell_type": "code",
   "execution_count": 8,
   "metadata": {},
   "outputs": [
    {
     "data": {
      "text/plain": [
       "class                       0\n",
       "cap-shape                   0\n",
       "cap-surface                 0\n",
       "cap-color                   0\n",
       "bruises                     0\n",
       "odor                        0\n",
       "gill-attachment             0\n",
       "gill-spacing                0\n",
       "gill-size                   0\n",
       "gill-color                  0\n",
       "stalk-shape                 0\n",
       "stalk-root                  0\n",
       "stalk-surface-above-ring    0\n",
       "stalk-surface-below-ring    0\n",
       "stalk-color-above-ring      0\n",
       "stalk-color-below-ring      0\n",
       "veil-type                   0\n",
       "veil-color                  0\n",
       "ring-number                 0\n",
       "ring-type                   0\n",
       "spore-print-color           0\n",
       "population                  0\n",
       "habitat                     0\n",
       "dtype: int64"
      ]
     },
     "execution_count": 8,
     "metadata": {},
     "output_type": "execute_result"
    }
   ],
   "source": [
    "data.isnull().sum()#缺失值"
   ]
  },
  {
   "cell_type": "code",
   "execution_count": 9,
   "metadata": {},
   "outputs": [
    {
     "data": {
      "text/plain": [
       "array(['p', 'e'], dtype=object)"
      ]
     },
     "execution_count": 9,
     "metadata": {},
     "output_type": "execute_result"
    }
   ],
   "source": [
    "data['class'].unique()      #p有毒    e无毒   \n",
    "#unique的作用是从输入序列中“删除”所有相邻的重复元素\n"
   ]
  },
  {
   "cell_type": "code",
   "execution_count": 10,
   "metadata": {},
   "outputs": [
    {
     "data": {
      "text/plain": [
       "class                       object\n",
       "cap-shape                   object\n",
       "cap-surface                 object\n",
       "cap-color                   object\n",
       "bruises                     object\n",
       "odor                        object\n",
       "gill-attachment             object\n",
       "gill-spacing                object\n",
       "gill-size                   object\n",
       "gill-color                  object\n",
       "stalk-shape                 object\n",
       "stalk-root                  object\n",
       "stalk-surface-above-ring    object\n",
       "stalk-surface-below-ring    object\n",
       "stalk-color-above-ring      object\n",
       "stalk-color-below-ring      object\n",
       "veil-type                   object\n",
       "veil-color                  object\n",
       "ring-number                 object\n",
       "ring-type                   object\n",
       "spore-print-color           object\n",
       "population                  object\n",
       "habitat                     object\n",
       "dtype: object"
      ]
     },
     "execution_count": 10,
     "metadata": {},
     "output_type": "execute_result"
    }
   ],
   "source": [
    "data.dtypes\n"
   ]
  },
  {
   "cell_type": "code",
   "execution_count": 11,
   "metadata": {},
   "outputs": [
    {
     "data": {
      "text/html": [
       "<div>\n",
       "<style scoped>\n",
       "    .dataframe tbody tr th:only-of-type {\n",
       "        vertical-align: middle;\n",
       "    }\n",
       "\n",
       "    .dataframe tbody tr th {\n",
       "        vertical-align: top;\n",
       "    }\n",
       "\n",
       "    .dataframe thead th {\n",
       "        text-align: right;\n",
       "    }\n",
       "</style>\n",
       "<table border=\"1\" class=\"dataframe\">\n",
       "  <thead>\n",
       "    <tr style=\"text-align: right;\">\n",
       "      <th></th>\n",
       "      <th>class</th>\n",
       "      <th>cap-shape</th>\n",
       "      <th>cap-surface</th>\n",
       "      <th>cap-color</th>\n",
       "      <th>bruises</th>\n",
       "      <th>odor</th>\n",
       "      <th>gill-attachment</th>\n",
       "      <th>gill-spacing</th>\n",
       "      <th>gill-size</th>\n",
       "      <th>gill-color</th>\n",
       "      <th>...</th>\n",
       "      <th>stalk-surface-below-ring</th>\n",
       "      <th>stalk-color-above-ring</th>\n",
       "      <th>stalk-color-below-ring</th>\n",
       "      <th>veil-type</th>\n",
       "      <th>veil-color</th>\n",
       "      <th>ring-number</th>\n",
       "      <th>ring-type</th>\n",
       "      <th>spore-print-color</th>\n",
       "      <th>population</th>\n",
       "      <th>habitat</th>\n",
       "    </tr>\n",
       "  </thead>\n",
       "  <tbody>\n",
       "    <tr>\n",
       "      <th>0</th>\n",
       "      <td>1</td>\n",
       "      <td>5</td>\n",
       "      <td>2</td>\n",
       "      <td>4</td>\n",
       "      <td>1</td>\n",
       "      <td>6</td>\n",
       "      <td>1</td>\n",
       "      <td>0</td>\n",
       "      <td>1</td>\n",
       "      <td>4</td>\n",
       "      <td>...</td>\n",
       "      <td>2</td>\n",
       "      <td>7</td>\n",
       "      <td>7</td>\n",
       "      <td>0</td>\n",
       "      <td>2</td>\n",
       "      <td>1</td>\n",
       "      <td>4</td>\n",
       "      <td>2</td>\n",
       "      <td>3</td>\n",
       "      <td>5</td>\n",
       "    </tr>\n",
       "    <tr>\n",
       "      <th>1</th>\n",
       "      <td>0</td>\n",
       "      <td>5</td>\n",
       "      <td>2</td>\n",
       "      <td>9</td>\n",
       "      <td>1</td>\n",
       "      <td>0</td>\n",
       "      <td>1</td>\n",
       "      <td>0</td>\n",
       "      <td>0</td>\n",
       "      <td>4</td>\n",
       "      <td>...</td>\n",
       "      <td>2</td>\n",
       "      <td>7</td>\n",
       "      <td>7</td>\n",
       "      <td>0</td>\n",
       "      <td>2</td>\n",
       "      <td>1</td>\n",
       "      <td>4</td>\n",
       "      <td>3</td>\n",
       "      <td>2</td>\n",
       "      <td>1</td>\n",
       "    </tr>\n",
       "    <tr>\n",
       "      <th>2</th>\n",
       "      <td>0</td>\n",
       "      <td>0</td>\n",
       "      <td>2</td>\n",
       "      <td>8</td>\n",
       "      <td>1</td>\n",
       "      <td>3</td>\n",
       "      <td>1</td>\n",
       "      <td>0</td>\n",
       "      <td>0</td>\n",
       "      <td>5</td>\n",
       "      <td>...</td>\n",
       "      <td>2</td>\n",
       "      <td>7</td>\n",
       "      <td>7</td>\n",
       "      <td>0</td>\n",
       "      <td>2</td>\n",
       "      <td>1</td>\n",
       "      <td>4</td>\n",
       "      <td>3</td>\n",
       "      <td>2</td>\n",
       "      <td>3</td>\n",
       "    </tr>\n",
       "    <tr>\n",
       "      <th>3</th>\n",
       "      <td>1</td>\n",
       "      <td>5</td>\n",
       "      <td>3</td>\n",
       "      <td>8</td>\n",
       "      <td>1</td>\n",
       "      <td>6</td>\n",
       "      <td>1</td>\n",
       "      <td>0</td>\n",
       "      <td>1</td>\n",
       "      <td>5</td>\n",
       "      <td>...</td>\n",
       "      <td>2</td>\n",
       "      <td>7</td>\n",
       "      <td>7</td>\n",
       "      <td>0</td>\n",
       "      <td>2</td>\n",
       "      <td>1</td>\n",
       "      <td>4</td>\n",
       "      <td>2</td>\n",
       "      <td>3</td>\n",
       "      <td>5</td>\n",
       "    </tr>\n",
       "    <tr>\n",
       "      <th>4</th>\n",
       "      <td>0</td>\n",
       "      <td>5</td>\n",
       "      <td>2</td>\n",
       "      <td>3</td>\n",
       "      <td>0</td>\n",
       "      <td>5</td>\n",
       "      <td>1</td>\n",
       "      <td>1</td>\n",
       "      <td>0</td>\n",
       "      <td>4</td>\n",
       "      <td>...</td>\n",
       "      <td>2</td>\n",
       "      <td>7</td>\n",
       "      <td>7</td>\n",
       "      <td>0</td>\n",
       "      <td>2</td>\n",
       "      <td>1</td>\n",
       "      <td>0</td>\n",
       "      <td>3</td>\n",
       "      <td>0</td>\n",
       "      <td>1</td>\n",
       "    </tr>\n",
       "  </tbody>\n",
       "</table>\n",
       "<p>5 rows × 23 columns</p>\n",
       "</div>"
      ],
      "text/plain": [
       "   class  cap-shape  cap-surface  cap-color  bruises  odor  gill-attachment  \\\n",
       "0      1          5            2          4        1     6                1   \n",
       "1      0          5            2          9        1     0                1   \n",
       "2      0          0            2          8        1     3                1   \n",
       "3      1          5            3          8        1     6                1   \n",
       "4      0          5            2          3        0     5                1   \n",
       "\n",
       "   gill-spacing  gill-size  gill-color  ...  stalk-surface-below-ring  \\\n",
       "0             0          1           4  ...                         2   \n",
       "1             0          0           4  ...                         2   \n",
       "2             0          0           5  ...                         2   \n",
       "3             0          1           5  ...                         2   \n",
       "4             1          0           4  ...                         2   \n",
       "\n",
       "   stalk-color-above-ring  stalk-color-below-ring  veil-type  veil-color  \\\n",
       "0                       7                       7          0           2   \n",
       "1                       7                       7          0           2   \n",
       "2                       7                       7          0           2   \n",
       "3                       7                       7          0           2   \n",
       "4                       7                       7          0           2   \n",
       "\n",
       "   ring-number  ring-type  spore-print-color  population  habitat  \n",
       "0            1          4                  2           3        5  \n",
       "1            1          4                  3           2        1  \n",
       "2            1          4                  3           2        3  \n",
       "3            1          4                  2           3        5  \n",
       "4            1          0                  3           0        1  \n",
       "\n",
       "[5 rows x 23 columns]"
      ]
     },
     "execution_count": 11,
     "metadata": {},
     "output_type": "execute_result"
    }
   ],
   "source": [
    "from sklearn.preprocessing import LabelEncoder\n",
    "labelencoder=LabelEncoder()\n",
    "for col in data.columns:\n",
    "    data[col] = labelencoder.fit_transform(data[col])\n",
    "data.head()#-----------<class 'pandas.core.frame.DataFrame'>\n"
   ]
  },
  {
   "cell_type": "code",
   "execution_count": 12,
   "metadata": {},
   "outputs": [
    {
     "data": {
      "text/plain": [
       "0    1\n",
       "1    0\n",
       "2    0\n",
       "3    1\n",
       "4    0\n",
       "Name: class, dtype: int32"
      ]
     },
     "execution_count": 12,
     "metadata": {},
     "output_type": "execute_result"
    }
   ],
   "source": [
    "X = data.iloc[:,1:23]  # 所有行、所有功能和无标签\n",
    "y = data.iloc[:,0]  # 所有行，仅标签\n",
    "X.head()\n",
    "y.head()\n"
   ]
  },
  {
   "cell_type": "code",
   "execution_count": 13,
   "metadata": {},
   "outputs": [
    {
     "data": {
      "text/plain": [
       "(6499, 22)"
      ]
     },
     "execution_count": 13,
     "metadata": {},
     "output_type": "execute_result"
    }
   ],
   "source": [
    "#将数据剪切成训练和测试数据集\n",
    "from sklearn.model_selection import train_test_split\n",
    "X_train, X_test, y_train, y_test = train_test_split(X,y,test_size=0.2,random_state=4)\n",
    "X_train.shape\n",
    "# X_test.shape\n"
   ]
  },
  {
   "cell_type": "code",
   "execution_count": 14,
   "metadata": {},
   "outputs": [
    {
     "data": {
      "text/plain": [
       "1.0"
      ]
     },
     "execution_count": 14,
     "metadata": {},
     "output_type": "execute_result"
    }
   ],
   "source": [
    "clf=tree.DecisionTreeClassifier(criterion='entropy')\n",
    "clf=clf.fit(X_train,y_train)\n",
    "score=clf.score(X_test,y_test)\n",
    "score\n"
   ]
  },
  {
   "cell_type": "code",
   "execution_count": 15,
   "metadata": {},
   "outputs": [
    {
     "data": {
      "text/plain": [
       "array([0.        , 0.        , 0.        , 0.        , 0.02397249,\n",
       "       0.        , 0.        , 0.14621746, 0.26817376, 0.02716279,\n",
       "       0.09930023, 0.        , 0.        , 0.        , 0.        ,\n",
       "       0.        , 0.        , 0.        , 0.        , 0.38651374,\n",
       "       0.02185554, 0.026804  ])"
      ]
     },
     "execution_count": 15,
     "metadata": {},
     "output_type": "execute_result"
    }
   ],
   "source": [
    "clf.feature_importances_   #\n"
   ]
  },
  {
   "cell_type": "code",
   "execution_count": 16,
   "metadata": {},
   "outputs": [
    {
     "name": "stdout",
     "output_type": "stream",
     "text": [
      "<class 'pandas.core.series.Series'>\n"
     ]
    }
   ],
   "source": [
    "data.dtypes\n",
    "print(type(data.dtypes))\n"
   ]
  },
  {
   "cell_type": "code",
   "execution_count": 17,
   "metadata": {},
   "outputs": [],
   "source": [
    "# data.dtypes\n",
    "feature_name=['cap-shape','cap-surface','cap-color','bruises','odor','gill-attachment','gill-spacing','gill-size','gill-color','stalk-shape'\n",
    "              ,'stalk-root','stalk-surface-above-ring','stalk-surface-below-ring','stalk-color-above-ring','stalk-color-below-ring','veil-type'\n",
    "              ,'veil-color','ring-number','ring-type','spore-print-color','population','habitat']\n"
   ]
  },
  {
   "cell_type": "code",
   "execution_count": 18,
   "metadata": {},
   "outputs": [
    {
     "name": "stdout",
     "output_type": "stream",
     "text": [
      "22\n"
     ]
    }
   ],
   "source": [
    "print(len(feature_name))\n",
    "# feature_name=[]\n",
    "# for i in range(len(data.dtypes)):\n",
    "#     feature_name.append()\n"
   ]
  },
  {
   "cell_type": "code",
   "execution_count": 19,
   "metadata": {},
   "outputs": [
    {
     "data": {
      "text/plain": [
       "[('cap-shape', 0.0),\n",
       " ('cap-surface', 0.0),\n",
       " ('cap-color', 0.0),\n",
       " ('bruises', 0.0),\n",
       " ('odor', 0.023972489775133166),\n",
       " ('gill-attachment', 0.0),\n",
       " ('gill-spacing', 0.0),\n",
       " ('gill-size', 0.14621745754606932),\n",
       " ('gill-color', 0.2681737587145311),\n",
       " ('stalk-shape', 0.027162786951459204),\n",
       " ('stalk-root', 0.09930023122224009),\n",
       " ('stalk-surface-above-ring', 0.0),\n",
       " ('stalk-surface-below-ring', 0.0),\n",
       " ('stalk-color-above-ring', 0.0),\n",
       " ('stalk-color-below-ring', 0.0),\n",
       " ('veil-type', 0.0),\n",
       " ('veil-color', 0.0),\n",
       " ('ring-number', 0.0),\n",
       " ('ring-type', 0.0),\n",
       " ('spore-print-color', 0.3865137366924967),\n",
       " ('population', 0.02185554229856966),\n",
       " ('habitat', 0.026803996799500723)]"
      ]
     },
     "execution_count": 19,
     "metadata": {},
     "output_type": "execute_result"
    }
   ],
   "source": [
    "[*zip(feature_name,clf.feature_importances_)]\n"
   ]
  },
  {
   "cell_type": "code",
   "execution_count": 20,
   "metadata": {},
   "outputs": [
    {
     "data": {
      "text/plain": [
       "1.0"
      ]
     },
     "execution_count": 20,
     "metadata": {},
     "output_type": "execute_result"
    }
   ],
   "source": [
    "clf=tree.DecisionTreeClassifier(criterion='entropy',random_state=30)\n",
    "clf=clf.fit(X_train,y_train)\n",
    "score=clf.score(X_test,y_test)\n",
    "\n",
    "score\n"
   ]
  },
  {
   "cell_type": "code",
   "execution_count": 21,
   "metadata": {},
   "outputs": [
    {
     "data": {
      "text/plain": [
       "1.0"
      ]
     },
     "execution_count": 21,
     "metadata": {},
     "output_type": "execute_result"
    }
   ],
   "source": [
    "clf=tree.DecisionTreeClassifier(criterion='entropy'      #优化!\n",
    "                                ,random_state=30\n",
    "                                ,splitter='random')\n",
    "clf=clf.fit(X_train,y_train)\n",
    "score=clf.score(X_test,y_test)\n",
    "score\n"
   ]
  },
  {
   "cell_type": "code",
   "execution_count": 26,
   "metadata": {},
   "outputs": [
    {
     "data": {
      "image/svg+xml": "<?xml version=\"1.0\" encoding=\"UTF-8\" standalone=\"no\"?>\n<!DOCTYPE svg PUBLIC \"-//W3C//DTD SVG 1.1//EN\"\n \"http://www.w3.org/Graphics/SVG/1.1/DTD/svg11.dtd\">\n<!-- Generated by graphviz version 2.50.0 (0)\n -->\n<!-- Title: Tree Pages: 1 -->\n<svg width=\"1426pt\" height=\"909pt\"\n viewBox=\"0.00 0.00 1425.50 909.00\" xmlns=\"http://www.w3.org/2000/svg\" xmlns:xlink=\"http://www.w3.org/1999/xlink\">\n<g id=\"graph0\" class=\"graph\" transform=\"scale(1 1) rotate(0) translate(4 905)\">\n<title>Tree</title>\n<polygon fill=\"white\" stroke=\"transparent\" points=\"-4,4 -4,-905 1421.5,-905 1421.5,4 -4,4\"/>\n<!-- 0 -->\n<g id=\"node1\" class=\"node\">\n<title>0</title>\n<path fill=\"#fdf6f2\" stroke=\"black\" d=\"M726.5,-901C726.5,-901 610.5,-901 610.5,-901 604.5,-901 598.5,-895 598.5,-889 598.5,-889 598.5,-830 598.5,-830 598.5,-824 604.5,-818 610.5,-818 610.5,-818 726.5,-818 726.5,-818 732.5,-818 738.5,-824 738.5,-830 738.5,-830 738.5,-889 738.5,-889 738.5,-895 732.5,-901 726.5,-901\"/>\n<text text-anchor=\"middle\" x=\"668.5\" y=\"-885.8\" font-family=\"Helvetica,sans-Serif\" font-size=\"14.00\">gill&#45;size &lt;= 0.383</text>\n<text text-anchor=\"middle\" x=\"668.5\" y=\"-870.8\" font-family=\"Helvetica,sans-Serif\" font-size=\"14.00\">entropy = 0.999</text>\n<text text-anchor=\"middle\" x=\"668.5\" y=\"-855.8\" font-family=\"Helvetica,sans-Serif\" font-size=\"14.00\">samples = 6499</text>\n<text text-anchor=\"middle\" x=\"668.5\" y=\"-840.8\" font-family=\"Helvetica,sans-Serif\" font-size=\"14.00\">value = [3363, 3136]</text>\n<text text-anchor=\"middle\" x=\"668.5\" y=\"-825.8\" font-family=\"Helvetica,sans-Serif\" font-size=\"14.00\">class = 有毒</text>\n</g>\n<!-- 1 -->\n<g id=\"node2\" class=\"node\">\n<title>1</title>\n<path fill=\"#f0b88f\" stroke=\"black\" d=\"M561.5,-782C561.5,-782 445.5,-782 445.5,-782 439.5,-782 433.5,-776 433.5,-770 433.5,-770 433.5,-711 433.5,-711 433.5,-705 439.5,-699 445.5,-699 445.5,-699 561.5,-699 561.5,-699 567.5,-699 573.5,-705 573.5,-711 573.5,-711 573.5,-770 573.5,-770 573.5,-776 567.5,-782 561.5,-782\"/>\n<text text-anchor=\"middle\" x=\"503.5\" y=\"-766.8\" font-family=\"Helvetica,sans-Serif\" font-size=\"14.00\">odor &lt;= 4.708</text>\n<text text-anchor=\"middle\" x=\"503.5\" y=\"-751.8\" font-family=\"Helvetica,sans-Serif\" font-size=\"14.00\">entropy = 0.886</text>\n<text text-anchor=\"middle\" x=\"503.5\" y=\"-736.8\" font-family=\"Helvetica,sans-Serif\" font-size=\"14.00\">samples = 4493</text>\n<text text-anchor=\"middle\" x=\"503.5\" y=\"-721.8\" font-family=\"Helvetica,sans-Serif\" font-size=\"14.00\">value = [3127, 1366]</text>\n<text text-anchor=\"middle\" x=\"503.5\" y=\"-706.8\" font-family=\"Helvetica,sans-Serif\" font-size=\"14.00\">class = 有毒</text>\n</g>\n<!-- 0&#45;&gt;1 -->\n<g id=\"edge1\" class=\"edge\">\n<title>0&#45;&gt;1</title>\n<path fill=\"none\" stroke=\"black\" d=\"M611.25,-817.91C597.56,-808.2 582.84,-797.76 568.81,-787.81\"/>\n<polygon fill=\"black\" stroke=\"black\" points=\"570.83,-784.95 560.64,-782.02 566.78,-790.66 570.83,-784.95\"/>\n<text text-anchor=\"middle\" x=\"564.84\" y=\"-802.97\" font-family=\"Helvetica,sans-Serif\" font-size=\"14.00\">True</text>\n</g>\n<!-- 12 -->\n<g id=\"node13\" class=\"node\">\n<title>12</title>\n<path fill=\"#53aae8\" stroke=\"black\" d=\"M876,-782C876,-782 755,-782 755,-782 749,-782 743,-776 743,-770 743,-770 743,-711 743,-711 743,-705 749,-699 755,-699 755,-699 876,-699 876,-699 882,-699 888,-705 888,-711 888,-711 888,-770 888,-770 888,-776 882,-782 876,-782\"/>\n<text text-anchor=\"middle\" x=\"815.5\" y=\"-766.8\" font-family=\"Helvetica,sans-Serif\" font-size=\"14.00\">cap&#45;surface &lt;= 1.489</text>\n<text text-anchor=\"middle\" x=\"815.5\" y=\"-751.8\" font-family=\"Helvetica,sans-Serif\" font-size=\"14.00\">entropy = 0.523</text>\n<text text-anchor=\"middle\" x=\"815.5\" y=\"-736.8\" font-family=\"Helvetica,sans-Serif\" font-size=\"14.00\">samples = 2006</text>\n<text text-anchor=\"middle\" x=\"815.5\" y=\"-721.8\" font-family=\"Helvetica,sans-Serif\" font-size=\"14.00\">value = [236, 1770]</text>\n<text text-anchor=\"middle\" x=\"815.5\" y=\"-706.8\" font-family=\"Helvetica,sans-Serif\" font-size=\"14.00\">class = 无毒</text>\n</g>\n<!-- 0&#45;&gt;12 -->\n<g id=\"edge12\" class=\"edge\">\n<title>0&#45;&gt;12</title>\n<path fill=\"none\" stroke=\"black\" d=\"M719.5,-817.91C731.47,-808.38 744.33,-798.15 756.61,-788.37\"/>\n<polygon fill=\"black\" stroke=\"black\" points=\"758.94,-790.99 764.59,-782.02 754.59,-785.51 758.94,-790.99\"/>\n<text text-anchor=\"middle\" x=\"761.77\" y=\"-803.16\" font-family=\"Helvetica,sans-Serif\" font-size=\"14.00\">False</text>\n</g>\n<!-- 2 -->\n<g id=\"node3\" class=\"node\">\n<title>2</title>\n<path fill=\"#8fc8f0\" stroke=\"black\" d=\"M295.5,-663C295.5,-663 187.5,-663 187.5,-663 181.5,-663 175.5,-657 175.5,-651 175.5,-651 175.5,-592 175.5,-592 175.5,-586 181.5,-580 187.5,-580 187.5,-580 295.5,-580 295.5,-580 301.5,-580 307.5,-586 307.5,-592 307.5,-592 307.5,-651 307.5,-651 307.5,-657 301.5,-663 295.5,-663\"/>\n<text text-anchor=\"middle\" x=\"241.5\" y=\"-647.8\" font-family=\"Helvetica,sans-Serif\" font-size=\"14.00\">stalk&#45;root &lt;= 1.388</text>\n<text text-anchor=\"middle\" x=\"241.5\" y=\"-632.8\" font-family=\"Helvetica,sans-Serif\" font-size=\"14.00\">entropy = 0.885</text>\n<text text-anchor=\"middle\" x=\"241.5\" y=\"-617.8\" font-family=\"Helvetica,sans-Serif\" font-size=\"14.00\">samples = 1876</text>\n<text text-anchor=\"middle\" x=\"241.5\" y=\"-602.8\" font-family=\"Helvetica,sans-Serif\" font-size=\"14.00\">value = [568, 1308]</text>\n<text text-anchor=\"middle\" x=\"241.5\" y=\"-587.8\" font-family=\"Helvetica,sans-Serif\" font-size=\"14.00\">class = 无毒</text>\n</g>\n<!-- 1&#45;&gt;2 -->\n<g id=\"edge2\" class=\"edge\">\n<title>1&#45;&gt;2</title>\n<path fill=\"none\" stroke=\"black\" d=\"M433.29,-708.15C397.38,-692.11 353.63,-672.57 317,-656.21\"/>\n<polygon fill=\"black\" stroke=\"black\" points=\"318.4,-653.01 307.84,-652.13 315.55,-659.4 318.4,-653.01\"/>\n</g>\n<!-- 7 -->\n<g id=\"node8\" class=\"node\">\n<title>7</title>\n<path fill=\"#e6843d\" stroke=\"black\" d=\"M565.5,-663C565.5,-663 441.5,-663 441.5,-663 435.5,-663 429.5,-657 429.5,-651 429.5,-651 429.5,-592 429.5,-592 429.5,-586 435.5,-580 441.5,-580 441.5,-580 565.5,-580 565.5,-580 571.5,-580 577.5,-586 577.5,-592 577.5,-592 577.5,-651 577.5,-651 577.5,-657 571.5,-663 565.5,-663\"/>\n<text text-anchor=\"middle\" x=\"503.5\" y=\"-647.8\" font-family=\"Helvetica,sans-Serif\" font-size=\"14.00\">ring&#45;number &lt;= 1.851</text>\n<text text-anchor=\"middle\" x=\"503.5\" y=\"-632.8\" font-family=\"Helvetica,sans-Serif\" font-size=\"14.00\">entropy = 0.153</text>\n<text text-anchor=\"middle\" x=\"503.5\" y=\"-617.8\" font-family=\"Helvetica,sans-Serif\" font-size=\"14.00\">samples = 2617</text>\n<text text-anchor=\"middle\" x=\"503.5\" y=\"-602.8\" font-family=\"Helvetica,sans-Serif\" font-size=\"14.00\">value = [2559, 58]</text>\n<text text-anchor=\"middle\" x=\"503.5\" y=\"-587.8\" font-family=\"Helvetica,sans-Serif\" font-size=\"14.00\">class = 有毒</text>\n</g>\n<!-- 1&#45;&gt;7 -->\n<g id=\"edge7\" class=\"edge\">\n<title>1&#45;&gt;7</title>\n<path fill=\"none\" stroke=\"black\" d=\"M503.5,-698.91C503.5,-690.65 503.5,-681.86 503.5,-673.3\"/>\n<polygon fill=\"black\" stroke=\"black\" points=\"507,-673.02 503.5,-663.02 500,-673.02 507,-673.02\"/>\n</g>\n<!-- 3 -->\n<g id=\"node4\" class=\"node\">\n<title>3</title>\n<path fill=\"#399de5\" stroke=\"black\" d=\"M105,-536.5C105,-536.5 12,-536.5 12,-536.5 6,-536.5 0,-530.5 0,-524.5 0,-524.5 0,-480.5 0,-480.5 0,-474.5 6,-468.5 12,-468.5 12,-468.5 105,-468.5 105,-468.5 111,-468.5 117,-474.5 117,-480.5 117,-480.5 117,-524.5 117,-524.5 117,-530.5 111,-536.5 105,-536.5\"/>\n<text text-anchor=\"middle\" x=\"58.5\" y=\"-521.3\" font-family=\"Helvetica,sans-Serif\" font-size=\"14.00\">entropy = 0.0</text>\n<text text-anchor=\"middle\" x=\"58.5\" y=\"-506.3\" font-family=\"Helvetica,sans-Serif\" font-size=\"14.00\">samples = 1277</text>\n<text text-anchor=\"middle\" x=\"58.5\" y=\"-491.3\" font-family=\"Helvetica,sans-Serif\" font-size=\"14.00\">value = [0, 1277]</text>\n<text text-anchor=\"middle\" x=\"58.5\" y=\"-476.3\" font-family=\"Helvetica,sans-Serif\" font-size=\"14.00\">class = 无毒</text>\n</g>\n<!-- 2&#45;&gt;3 -->\n<g id=\"edge3\" class=\"edge\">\n<title>2&#45;&gt;3</title>\n<path fill=\"none\" stroke=\"black\" d=\"M178.01,-579.91C158.85,-567.66 137.88,-554.25 118.93,-542.13\"/>\n<polygon fill=\"black\" stroke=\"black\" points=\"120.69,-539.1 110.38,-536.67 116.92,-545 120.69,-539.1\"/>\n</g>\n<!-- 4 -->\n<g id=\"node5\" class=\"node\">\n<title>4</title>\n<path fill=\"#e68844\" stroke=\"black\" d=\"M335.5,-544C335.5,-544 147.5,-544 147.5,-544 141.5,-544 135.5,-538 135.5,-532 135.5,-532 135.5,-473 135.5,-473 135.5,-467 141.5,-461 147.5,-461 147.5,-461 335.5,-461 335.5,-461 341.5,-461 347.5,-467 347.5,-473 347.5,-473 347.5,-532 347.5,-532 347.5,-538 341.5,-544 335.5,-544\"/>\n<text text-anchor=\"middle\" x=\"241.5\" y=\"-528.8\" font-family=\"Helvetica,sans-Serif\" font-size=\"14.00\">stalk&#45;surface&#45;above&#45;ring &lt;= 1.55</text>\n<text text-anchor=\"middle\" x=\"241.5\" y=\"-513.8\" font-family=\"Helvetica,sans-Serif\" font-size=\"14.00\">entropy = 0.294</text>\n<text text-anchor=\"middle\" x=\"241.5\" y=\"-498.8\" font-family=\"Helvetica,sans-Serif\" font-size=\"14.00\">samples = 599</text>\n<text text-anchor=\"middle\" x=\"241.5\" y=\"-483.8\" font-family=\"Helvetica,sans-Serif\" font-size=\"14.00\">value = [568, 31]</text>\n<text text-anchor=\"middle\" x=\"241.5\" y=\"-468.8\" font-family=\"Helvetica,sans-Serif\" font-size=\"14.00\">class = 有毒</text>\n</g>\n<!-- 2&#45;&gt;4 -->\n<g id=\"edge4\" class=\"edge\">\n<title>2&#45;&gt;4</title>\n<path fill=\"none\" stroke=\"black\" d=\"M241.5,-579.91C241.5,-571.65 241.5,-562.86 241.5,-554.3\"/>\n<polygon fill=\"black\" stroke=\"black\" points=\"245,-554.02 241.5,-544.02 238,-554.02 245,-554.02\"/>\n</g>\n<!-- 5 -->\n<g id=\"node6\" class=\"node\">\n<title>5</title>\n<path fill=\"#399de5\" stroke=\"black\" d=\"M203.5,-417.5C203.5,-417.5 125.5,-417.5 125.5,-417.5 119.5,-417.5 113.5,-411.5 113.5,-405.5 113.5,-405.5 113.5,-361.5 113.5,-361.5 113.5,-355.5 119.5,-349.5 125.5,-349.5 125.5,-349.5 203.5,-349.5 203.5,-349.5 209.5,-349.5 215.5,-355.5 215.5,-361.5 215.5,-361.5 215.5,-405.5 215.5,-405.5 215.5,-411.5 209.5,-417.5 203.5,-417.5\"/>\n<text text-anchor=\"middle\" x=\"164.5\" y=\"-402.3\" font-family=\"Helvetica,sans-Serif\" font-size=\"14.00\">entropy = 0.0</text>\n<text text-anchor=\"middle\" x=\"164.5\" y=\"-387.3\" font-family=\"Helvetica,sans-Serif\" font-size=\"14.00\">samples = 31</text>\n<text text-anchor=\"middle\" x=\"164.5\" y=\"-372.3\" font-family=\"Helvetica,sans-Serif\" font-size=\"14.00\">value = [0, 31]</text>\n<text text-anchor=\"middle\" x=\"164.5\" y=\"-357.3\" font-family=\"Helvetica,sans-Serif\" font-size=\"14.00\">class = 无毒</text>\n</g>\n<!-- 4&#45;&gt;5 -->\n<g id=\"edge5\" class=\"edge\">\n<title>4&#45;&gt;5</title>\n<path fill=\"none\" stroke=\"black\" d=\"M214.79,-460.91C207.38,-449.65 199.33,-437.42 191.88,-426.11\"/>\n<polygon fill=\"black\" stroke=\"black\" points=\"194.75,-424.1 186.33,-417.67 188.9,-427.94 194.75,-424.1\"/>\n</g>\n<!-- 6 -->\n<g id=\"node7\" class=\"node\">\n<title>6</title>\n<path fill=\"#e58139\" stroke=\"black\" d=\"M331.5,-417.5C331.5,-417.5 245.5,-417.5 245.5,-417.5 239.5,-417.5 233.5,-411.5 233.5,-405.5 233.5,-405.5 233.5,-361.5 233.5,-361.5 233.5,-355.5 239.5,-349.5 245.5,-349.5 245.5,-349.5 331.5,-349.5 331.5,-349.5 337.5,-349.5 343.5,-355.5 343.5,-361.5 343.5,-361.5 343.5,-405.5 343.5,-405.5 343.5,-411.5 337.5,-417.5 331.5,-417.5\"/>\n<text text-anchor=\"middle\" x=\"288.5\" y=\"-402.3\" font-family=\"Helvetica,sans-Serif\" font-size=\"14.00\">entropy = 0.0</text>\n<text text-anchor=\"middle\" x=\"288.5\" y=\"-387.3\" font-family=\"Helvetica,sans-Serif\" font-size=\"14.00\">samples = 568</text>\n<text text-anchor=\"middle\" x=\"288.5\" y=\"-372.3\" font-family=\"Helvetica,sans-Serif\" font-size=\"14.00\">value = [568, 0]</text>\n<text text-anchor=\"middle\" x=\"288.5\" y=\"-357.3\" font-family=\"Helvetica,sans-Serif\" font-size=\"14.00\">class = 有毒</text>\n</g>\n<!-- 4&#45;&gt;6 -->\n<g id=\"edge6\" class=\"edge\">\n<title>4&#45;&gt;6</title>\n<path fill=\"none\" stroke=\"black\" d=\"M257.81,-460.91C262.19,-449.98 266.95,-438.14 271.38,-427.11\"/>\n<polygon fill=\"black\" stroke=\"black\" points=\"274.7,-428.25 275.18,-417.67 268.2,-425.64 274.7,-428.25\"/>\n</g>\n<!-- 8 -->\n<g id=\"node9\" class=\"node\">\n<title>8</title>\n<path fill=\"#e58139\" stroke=\"black\" d=\"M471,-536.5C471,-536.5 378,-536.5 378,-536.5 372,-536.5 366,-530.5 366,-524.5 366,-524.5 366,-480.5 366,-480.5 366,-474.5 372,-468.5 378,-468.5 378,-468.5 471,-468.5 471,-468.5 477,-468.5 483,-474.5 483,-480.5 483,-480.5 483,-524.5 483,-524.5 483,-530.5 477,-536.5 471,-536.5\"/>\n<text text-anchor=\"middle\" x=\"424.5\" y=\"-521.3\" font-family=\"Helvetica,sans-Serif\" font-size=\"14.00\">entropy = 0.0</text>\n<text text-anchor=\"middle\" x=\"424.5\" y=\"-506.3\" font-family=\"Helvetica,sans-Serif\" font-size=\"14.00\">samples = 2154</text>\n<text text-anchor=\"middle\" x=\"424.5\" y=\"-491.3\" font-family=\"Helvetica,sans-Serif\" font-size=\"14.00\">value = [2154, 0]</text>\n<text text-anchor=\"middle\" x=\"424.5\" y=\"-476.3\" font-family=\"Helvetica,sans-Serif\" font-size=\"14.00\">class = 有毒</text>\n</g>\n<!-- 7&#45;&gt;8 -->\n<g id=\"edge8\" class=\"edge\">\n<title>7&#45;&gt;8</title>\n<path fill=\"none\" stroke=\"black\" d=\"M476.09,-579.91C468.49,-568.65 460.23,-556.42 452.59,-545.11\"/>\n<polygon fill=\"black\" stroke=\"black\" points=\"455.39,-543 446.89,-536.67 449.59,-546.91 455.39,-543\"/>\n</g>\n<!-- 9 -->\n<g id=\"node10\" class=\"node\">\n<title>9</title>\n<path fill=\"#e99355\" stroke=\"black\" d=\"M654,-544C654,-544 513,-544 513,-544 507,-544 501,-538 501,-532 501,-532 501,-473 501,-473 501,-467 507,-461 513,-461 513,-461 654,-461 654,-461 660,-461 666,-467 666,-473 666,-473 666,-532 666,-532 666,-538 660,-544 654,-544\"/>\n<text text-anchor=\"middle\" x=\"583.5\" y=\"-528.8\" font-family=\"Helvetica,sans-Serif\" font-size=\"14.00\">spore&#45;print&#45;color &lt;= 5.52</text>\n<text text-anchor=\"middle\" x=\"583.5\" y=\"-513.8\" font-family=\"Helvetica,sans-Serif\" font-size=\"14.00\">entropy = 0.544</text>\n<text text-anchor=\"middle\" x=\"583.5\" y=\"-498.8\" font-family=\"Helvetica,sans-Serif\" font-size=\"14.00\">samples = 463</text>\n<text text-anchor=\"middle\" x=\"583.5\" y=\"-483.8\" font-family=\"Helvetica,sans-Serif\" font-size=\"14.00\">value = [405, 58]</text>\n<text text-anchor=\"middle\" x=\"583.5\" y=\"-468.8\" font-family=\"Helvetica,sans-Serif\" font-size=\"14.00\">class = 有毒</text>\n</g>\n<!-- 7&#45;&gt;9 -->\n<g id=\"edge9\" class=\"edge\">\n<title>7&#45;&gt;9</title>\n<path fill=\"none\" stroke=\"black\" d=\"M531.26,-579.91C537.34,-571.01 543.84,-561.51 550.11,-552.33\"/>\n<polygon fill=\"black\" stroke=\"black\" points=\"553.04,-554.25 555.79,-544.02 547.26,-550.3 553.04,-554.25\"/>\n</g>\n<!-- 10 -->\n<g id=\"node11\" class=\"node\">\n<title>10</title>\n<path fill=\"#399de5\" stroke=\"black\" d=\"M508.5,-417.5C508.5,-417.5 430.5,-417.5 430.5,-417.5 424.5,-417.5 418.5,-411.5 418.5,-405.5 418.5,-405.5 418.5,-361.5 418.5,-361.5 418.5,-355.5 424.5,-349.5 430.5,-349.5 430.5,-349.5 508.5,-349.5 508.5,-349.5 514.5,-349.5 520.5,-355.5 520.5,-361.5 520.5,-361.5 520.5,-405.5 520.5,-405.5 520.5,-411.5 514.5,-417.5 508.5,-417.5\"/>\n<text text-anchor=\"middle\" x=\"469.5\" y=\"-402.3\" font-family=\"Helvetica,sans-Serif\" font-size=\"14.00\">entropy = 0.0</text>\n<text text-anchor=\"middle\" x=\"469.5\" y=\"-387.3\" font-family=\"Helvetica,sans-Serif\" font-size=\"14.00\">samples = 58</text>\n<text text-anchor=\"middle\" x=\"469.5\" y=\"-372.3\" font-family=\"Helvetica,sans-Serif\" font-size=\"14.00\">value = [0, 58]</text>\n<text text-anchor=\"middle\" x=\"469.5\" y=\"-357.3\" font-family=\"Helvetica,sans-Serif\" font-size=\"14.00\">class = 无毒</text>\n</g>\n<!-- 9&#45;&gt;10 -->\n<g id=\"edge10\" class=\"edge\">\n<title>9&#45;&gt;10</title>\n<path fill=\"none\" stroke=\"black\" d=\"M543.95,-460.91C532.66,-449.32 520.36,-436.7 509.07,-425.11\"/>\n<polygon fill=\"black\" stroke=\"black\" points=\"511.3,-422.39 501.82,-417.67 506.29,-427.27 511.3,-422.39\"/>\n</g>\n<!-- 11 -->\n<g id=\"node12\" class=\"node\">\n<title>11</title>\n<path fill=\"#e58139\" stroke=\"black\" d=\"M636.5,-417.5C636.5,-417.5 550.5,-417.5 550.5,-417.5 544.5,-417.5 538.5,-411.5 538.5,-405.5 538.5,-405.5 538.5,-361.5 538.5,-361.5 538.5,-355.5 544.5,-349.5 550.5,-349.5 550.5,-349.5 636.5,-349.5 636.5,-349.5 642.5,-349.5 648.5,-355.5 648.5,-361.5 648.5,-361.5 648.5,-405.5 648.5,-405.5 648.5,-411.5 642.5,-417.5 636.5,-417.5\"/>\n<text text-anchor=\"middle\" x=\"593.5\" y=\"-402.3\" font-family=\"Helvetica,sans-Serif\" font-size=\"14.00\">entropy = 0.0</text>\n<text text-anchor=\"middle\" x=\"593.5\" y=\"-387.3\" font-family=\"Helvetica,sans-Serif\" font-size=\"14.00\">samples = 405</text>\n<text text-anchor=\"middle\" x=\"593.5\" y=\"-372.3\" font-family=\"Helvetica,sans-Serif\" font-size=\"14.00\">value = [405, 0]</text>\n<text text-anchor=\"middle\" x=\"593.5\" y=\"-357.3\" font-family=\"Helvetica,sans-Serif\" font-size=\"14.00\">class = 有毒</text>\n</g>\n<!-- 9&#45;&gt;11 -->\n<g id=\"edge11\" class=\"edge\">\n<title>9&#45;&gt;11</title>\n<path fill=\"none\" stroke=\"black\" d=\"M586.97,-460.91C587.88,-450.2 588.87,-438.62 589.8,-427.78\"/>\n<polygon fill=\"black\" stroke=\"black\" points=\"593.3,-427.93 590.67,-417.67 586.33,-427.33 593.3,-427.93\"/>\n</g>\n<!-- 13 -->\n<g id=\"node14\" class=\"node\">\n<title>13</title>\n<path fill=\"#f6d4bb\" stroke=\"black\" d=\"M868.5,-663C868.5,-663 762.5,-663 762.5,-663 756.5,-663 750.5,-657 750.5,-651 750.5,-651 750.5,-592 750.5,-592 750.5,-586 756.5,-580 762.5,-580 762.5,-580 868.5,-580 868.5,-580 874.5,-580 880.5,-586 880.5,-592 880.5,-592 880.5,-651 880.5,-651 880.5,-657 874.5,-663 868.5,-663\"/>\n<text text-anchor=\"middle\" x=\"815.5\" y=\"-647.8\" font-family=\"Helvetica,sans-Serif\" font-size=\"14.00\">stalk&#45;root &lt;= 1.983</text>\n<text text-anchor=\"middle\" x=\"815.5\" y=\"-632.8\" font-family=\"Helvetica,sans-Serif\" font-size=\"14.00\">entropy = 0.969</text>\n<text text-anchor=\"middle\" x=\"815.5\" y=\"-617.8\" font-family=\"Helvetica,sans-Serif\" font-size=\"14.00\">samples = 222</text>\n<text text-anchor=\"middle\" x=\"815.5\" y=\"-602.8\" font-family=\"Helvetica,sans-Serif\" font-size=\"14.00\">value = [134, 88]</text>\n<text text-anchor=\"middle\" x=\"815.5\" y=\"-587.8\" font-family=\"Helvetica,sans-Serif\" font-size=\"14.00\">class = 有毒</text>\n</g>\n<!-- 12&#45;&gt;13 -->\n<g id=\"edge13\" class=\"edge\">\n<title>12&#45;&gt;13</title>\n<path fill=\"none\" stroke=\"black\" d=\"M815.5,-698.91C815.5,-690.65 815.5,-681.86 815.5,-673.3\"/>\n<polygon fill=\"black\" stroke=\"black\" points=\"819,-673.02 815.5,-663.02 812,-673.02 819,-673.02\"/>\n</g>\n<!-- 22 -->\n<g id=\"node23\" class=\"node\">\n<title>22</title>\n<path fill=\"#45a3e7\" stroke=\"black\" d=\"M1078.5,-663C1078.5,-663 970.5,-663 970.5,-663 964.5,-663 958.5,-657 958.5,-651 958.5,-651 958.5,-592 958.5,-592 958.5,-586 964.5,-580 970.5,-580 970.5,-580 1078.5,-580 1078.5,-580 1084.5,-580 1090.5,-586 1090.5,-592 1090.5,-592 1090.5,-651 1090.5,-651 1090.5,-657 1084.5,-663 1078.5,-663\"/>\n<text text-anchor=\"middle\" x=\"1024.5\" y=\"-647.8\" font-family=\"Helvetica,sans-Serif\" font-size=\"14.00\">gill&#45;color &lt;= 1.205</text>\n<text text-anchor=\"middle\" x=\"1024.5\" y=\"-632.8\" font-family=\"Helvetica,sans-Serif\" font-size=\"14.00\">entropy = 0.316</text>\n<text text-anchor=\"middle\" x=\"1024.5\" y=\"-617.8\" font-family=\"Helvetica,sans-Serif\" font-size=\"14.00\">samples = 1784</text>\n<text text-anchor=\"middle\" x=\"1024.5\" y=\"-602.8\" font-family=\"Helvetica,sans-Serif\" font-size=\"14.00\">value = [102, 1682]</text>\n<text text-anchor=\"middle\" x=\"1024.5\" y=\"-587.8\" font-family=\"Helvetica,sans-Serif\" font-size=\"14.00\">class = 无毒</text>\n</g>\n<!-- 12&#45;&gt;22 -->\n<g id=\"edge22\" class=\"edge\">\n<title>12&#45;&gt;22</title>\n<path fill=\"none\" stroke=\"black\" d=\"M888.01,-698.91C907.94,-687.75 929.58,-675.64 949.63,-664.41\"/>\n<polygon fill=\"black\" stroke=\"black\" points=\"951.4,-667.43 958.42,-659.49 947.98,-661.32 951.4,-667.43\"/>\n</g>\n<!-- 14 -->\n<g id=\"node15\" class=\"node\">\n<title>14</title>\n<path fill=\"#b9dcf6\" stroke=\"black\" d=\"M815,-544C815,-544 696,-544 696,-544 690,-544 684,-538 684,-532 684,-532 684,-473 684,-473 684,-467 690,-461 696,-461 696,-461 815,-461 815,-461 821,-461 827,-467 827,-473 827,-473 827,-532 827,-532 827,-538 821,-544 815,-544\"/>\n<text text-anchor=\"middle\" x=\"755.5\" y=\"-528.8\" font-family=\"Helvetica,sans-Serif\" font-size=\"14.00\">stalk&#45;shape &lt;= 0.231</text>\n<text text-anchor=\"middle\" x=\"755.5\" y=\"-513.8\" font-family=\"Helvetica,sans-Serif\" font-size=\"14.00\">entropy = 0.967</text>\n<text text-anchor=\"middle\" x=\"755.5\" y=\"-498.8\" font-family=\"Helvetica,sans-Serif\" font-size=\"14.00\">samples = 145</text>\n<text text-anchor=\"middle\" x=\"755.5\" y=\"-483.8\" font-family=\"Helvetica,sans-Serif\" font-size=\"14.00\">value = [57, 88]</text>\n<text text-anchor=\"middle\" x=\"755.5\" y=\"-468.8\" font-family=\"Helvetica,sans-Serif\" font-size=\"14.00\">class = 无毒</text>\n</g>\n<!-- 13&#45;&gt;14 -->\n<g id=\"edge14\" class=\"edge\">\n<title>13&#45;&gt;14</title>\n<path fill=\"none\" stroke=\"black\" d=\"M794.68,-579.91C790.26,-571.29 785.55,-562.09 780.97,-553.17\"/>\n<polygon fill=\"black\" stroke=\"black\" points=\"783.96,-551.32 776.28,-544.02 777.73,-554.52 783.96,-551.32\"/>\n</g>\n<!-- 21 -->\n<g id=\"node22\" class=\"node\">\n<title>21</title>\n<path fill=\"#e58139\" stroke=\"black\" d=\"M935.5,-536.5C935.5,-536.5 857.5,-536.5 857.5,-536.5 851.5,-536.5 845.5,-530.5 845.5,-524.5 845.5,-524.5 845.5,-480.5 845.5,-480.5 845.5,-474.5 851.5,-468.5 857.5,-468.5 857.5,-468.5 935.5,-468.5 935.5,-468.5 941.5,-468.5 947.5,-474.5 947.5,-480.5 947.5,-480.5 947.5,-524.5 947.5,-524.5 947.5,-530.5 941.5,-536.5 935.5,-536.5\"/>\n<text text-anchor=\"middle\" x=\"896.5\" y=\"-521.3\" font-family=\"Helvetica,sans-Serif\" font-size=\"14.00\">entropy = 0.0</text>\n<text text-anchor=\"middle\" x=\"896.5\" y=\"-506.3\" font-family=\"Helvetica,sans-Serif\" font-size=\"14.00\">samples = 77</text>\n<text text-anchor=\"middle\" x=\"896.5\" y=\"-491.3\" font-family=\"Helvetica,sans-Serif\" font-size=\"14.00\">value = [77, 0]</text>\n<text text-anchor=\"middle\" x=\"896.5\" y=\"-476.3\" font-family=\"Helvetica,sans-Serif\" font-size=\"14.00\">class = 有毒</text>\n</g>\n<!-- 13&#45;&gt;21 -->\n<g id=\"edge21\" class=\"edge\">\n<title>13&#45;&gt;21</title>\n<path fill=\"none\" stroke=\"black\" d=\"M843.6,-579.91C851.39,-568.65 859.86,-556.42 867.7,-545.11\"/>\n<polygon fill=\"black\" stroke=\"black\" points=\"870.72,-546.88 873.54,-536.67 864.97,-542.9 870.72,-546.88\"/>\n</g>\n<!-- 15 -->\n<g id=\"node16\" class=\"node\">\n<title>15</title>\n<path fill=\"#64b2eb\" stroke=\"black\" d=\"M790,-425C790,-425 699,-425 699,-425 693,-425 687,-419 687,-413 687,-413 687,-354 687,-354 687,-348 693,-342 699,-342 699,-342 790,-342 790,-342 796,-342 802,-348 802,-354 802,-354 802,-413 802,-413 802,-419 796,-425 790,-425\"/>\n<text text-anchor=\"middle\" x=\"744.5\" y=\"-409.8\" font-family=\"Helvetica,sans-Serif\" font-size=\"14.00\">habitat &lt;= 1.396</text>\n<text text-anchor=\"middle\" x=\"744.5\" y=\"-394.8\" font-family=\"Helvetica,sans-Serif\" font-size=\"14.00\">entropy = 0.675</text>\n<text text-anchor=\"middle\" x=\"744.5\" y=\"-379.8\" font-family=\"Helvetica,sans-Serif\" font-size=\"14.00\">samples = 107</text>\n<text text-anchor=\"middle\" x=\"744.5\" y=\"-364.8\" font-family=\"Helvetica,sans-Serif\" font-size=\"14.00\">value = [19, 88]</text>\n<text text-anchor=\"middle\" x=\"744.5\" y=\"-349.8\" font-family=\"Helvetica,sans-Serif\" font-size=\"14.00\">class = 无毒</text>\n</g>\n<!-- 14&#45;&gt;15 -->\n<g id=\"edge15\" class=\"edge\">\n<title>14&#45;&gt;15</title>\n<path fill=\"none\" stroke=\"black\" d=\"M751.68,-460.91C750.9,-452.56 750.06,-443.67 749.25,-435.02\"/>\n<polygon fill=\"black\" stroke=\"black\" points=\"752.73,-434.65 748.31,-425.02 745.76,-435.3 752.73,-434.65\"/>\n</g>\n<!-- 20 -->\n<g id=\"node21\" class=\"node\">\n<title>20</title>\n<path fill=\"#e58139\" stroke=\"black\" d=\"M910.5,-417.5C910.5,-417.5 832.5,-417.5 832.5,-417.5 826.5,-417.5 820.5,-411.5 820.5,-405.5 820.5,-405.5 820.5,-361.5 820.5,-361.5 820.5,-355.5 826.5,-349.5 832.5,-349.5 832.5,-349.5 910.5,-349.5 910.5,-349.5 916.5,-349.5 922.5,-355.5 922.5,-361.5 922.5,-361.5 922.5,-405.5 922.5,-405.5 922.5,-411.5 916.5,-417.5 910.5,-417.5\"/>\n<text text-anchor=\"middle\" x=\"871.5\" y=\"-402.3\" font-family=\"Helvetica,sans-Serif\" font-size=\"14.00\">entropy = 0.0</text>\n<text text-anchor=\"middle\" x=\"871.5\" y=\"-387.3\" font-family=\"Helvetica,sans-Serif\" font-size=\"14.00\">samples = 38</text>\n<text text-anchor=\"middle\" x=\"871.5\" y=\"-372.3\" font-family=\"Helvetica,sans-Serif\" font-size=\"14.00\">value = [38, 0]</text>\n<text text-anchor=\"middle\" x=\"871.5\" y=\"-357.3\" font-family=\"Helvetica,sans-Serif\" font-size=\"14.00\">class = 有毒</text>\n</g>\n<!-- 14&#45;&gt;20 -->\n<g id=\"edge20\" class=\"edge\">\n<title>14&#45;&gt;20</title>\n<path fill=\"none\" stroke=\"black\" d=\"M795.75,-460.91C807.34,-449.21 819.99,-436.46 831.56,-424.78\"/>\n<polygon fill=\"black\" stroke=\"black\" points=\"834.06,-427.23 838.62,-417.67 829.09,-422.3 834.06,-427.23\"/>\n</g>\n<!-- 16 -->\n<g id=\"node17\" class=\"node\">\n<title>16</title>\n<path fill=\"#399de5\" stroke=\"black\" d=\"M698.5,-298.5C698.5,-298.5 620.5,-298.5 620.5,-298.5 614.5,-298.5 608.5,-292.5 608.5,-286.5 608.5,-286.5 608.5,-242.5 608.5,-242.5 608.5,-236.5 614.5,-230.5 620.5,-230.5 620.5,-230.5 698.5,-230.5 698.5,-230.5 704.5,-230.5 710.5,-236.5 710.5,-242.5 710.5,-242.5 710.5,-286.5 710.5,-286.5 710.5,-292.5 704.5,-298.5 698.5,-298.5\"/>\n<text text-anchor=\"middle\" x=\"659.5\" y=\"-283.3\" font-family=\"Helvetica,sans-Serif\" font-size=\"14.00\">entropy = 0.0</text>\n<text text-anchor=\"middle\" x=\"659.5\" y=\"-268.3\" font-family=\"Helvetica,sans-Serif\" font-size=\"14.00\">samples = 84</text>\n<text text-anchor=\"middle\" x=\"659.5\" y=\"-253.3\" font-family=\"Helvetica,sans-Serif\" font-size=\"14.00\">value = [0, 84]</text>\n<text text-anchor=\"middle\" x=\"659.5\" y=\"-238.3\" font-family=\"Helvetica,sans-Serif\" font-size=\"14.00\">class = 无毒</text>\n</g>\n<!-- 15&#45;&gt;16 -->\n<g id=\"edge16\" class=\"edge\">\n<title>15&#45;&gt;16</title>\n<path fill=\"none\" stroke=\"black\" d=\"M715.01,-341.91C706.75,-330.54 697.77,-318.18 689.49,-306.77\"/>\n<polygon fill=\"black\" stroke=\"black\" points=\"692.3,-304.7 683.6,-298.67 686.64,-308.81 692.3,-304.7\"/>\n</g>\n<!-- 17 -->\n<g id=\"node18\" class=\"node\">\n<title>17</title>\n<path fill=\"#ea9c63\" stroke=\"black\" d=\"M920,-306C920,-306 741,-306 741,-306 735,-306 729,-300 729,-294 729,-294 729,-235 729,-235 729,-229 735,-223 741,-223 741,-223 920,-223 920,-223 926,-223 932,-229 932,-235 932,-235 932,-294 932,-294 932,-300 926,-306 920,-306\"/>\n<text text-anchor=\"middle\" x=\"830.5\" y=\"-290.8\" font-family=\"Helvetica,sans-Serif\" font-size=\"14.00\">stalk&#45;color&#45;below&#45;ring &lt;= 5.065</text>\n<text text-anchor=\"middle\" x=\"830.5\" y=\"-275.8\" font-family=\"Helvetica,sans-Serif\" font-size=\"14.00\">entropy = 0.667</text>\n<text text-anchor=\"middle\" x=\"830.5\" y=\"-260.8\" font-family=\"Helvetica,sans-Serif\" font-size=\"14.00\">samples = 23</text>\n<text text-anchor=\"middle\" x=\"830.5\" y=\"-245.8\" font-family=\"Helvetica,sans-Serif\" font-size=\"14.00\">value = [19, 4]</text>\n<text text-anchor=\"middle\" x=\"830.5\" y=\"-230.8\" font-family=\"Helvetica,sans-Serif\" font-size=\"14.00\">class = 有毒</text>\n</g>\n<!-- 15&#45;&gt;17 -->\n<g id=\"edge17\" class=\"edge\">\n<title>15&#45;&gt;17</title>\n<path fill=\"none\" stroke=\"black\" d=\"M774.34,-341.91C780.87,-333.01 787.86,-323.51 794.61,-314.33\"/>\n<polygon fill=\"black\" stroke=\"black\" points=\"797.61,-316.15 800.72,-306.02 791.97,-312.01 797.61,-316.15\"/>\n</g>\n<!-- 18 -->\n<g id=\"node19\" class=\"node\">\n<title>18</title>\n<path fill=\"#e58139\" stroke=\"black\" d=\"M810.5,-179.5C810.5,-179.5 732.5,-179.5 732.5,-179.5 726.5,-179.5 720.5,-173.5 720.5,-167.5 720.5,-167.5 720.5,-123.5 720.5,-123.5 720.5,-117.5 726.5,-111.5 732.5,-111.5 732.5,-111.5 810.5,-111.5 810.5,-111.5 816.5,-111.5 822.5,-117.5 822.5,-123.5 822.5,-123.5 822.5,-167.5 822.5,-167.5 822.5,-173.5 816.5,-179.5 810.5,-179.5\"/>\n<text text-anchor=\"middle\" x=\"771.5\" y=\"-164.3\" font-family=\"Helvetica,sans-Serif\" font-size=\"14.00\">entropy = 0.0</text>\n<text text-anchor=\"middle\" x=\"771.5\" y=\"-149.3\" font-family=\"Helvetica,sans-Serif\" font-size=\"14.00\">samples = 19</text>\n<text text-anchor=\"middle\" x=\"771.5\" y=\"-134.3\" font-family=\"Helvetica,sans-Serif\" font-size=\"14.00\">value = [19, 0]</text>\n<text text-anchor=\"middle\" x=\"771.5\" y=\"-119.3\" font-family=\"Helvetica,sans-Serif\" font-size=\"14.00\">class = 有毒</text>\n</g>\n<!-- 17&#45;&gt;18 -->\n<g id=\"edge18\" class=\"edge\">\n<title>17&#45;&gt;18</title>\n<path fill=\"none\" stroke=\"black\" d=\"M810.03,-222.91C804.47,-211.87 798.43,-199.9 792.82,-188.77\"/>\n<polygon fill=\"black\" stroke=\"black\" points=\"795.85,-187.02 788.23,-179.67 789.6,-190.17 795.85,-187.02\"/>\n</g>\n<!-- 19 -->\n<g id=\"node20\" class=\"node\">\n<title>19</title>\n<path fill=\"#399de5\" stroke=\"black\" d=\"M924.5,-179.5C924.5,-179.5 852.5,-179.5 852.5,-179.5 846.5,-179.5 840.5,-173.5 840.5,-167.5 840.5,-167.5 840.5,-123.5 840.5,-123.5 840.5,-117.5 846.5,-111.5 852.5,-111.5 852.5,-111.5 924.5,-111.5 924.5,-111.5 930.5,-111.5 936.5,-117.5 936.5,-123.5 936.5,-123.5 936.5,-167.5 936.5,-167.5 936.5,-173.5 930.5,-179.5 924.5,-179.5\"/>\n<text text-anchor=\"middle\" x=\"888.5\" y=\"-164.3\" font-family=\"Helvetica,sans-Serif\" font-size=\"14.00\">entropy = 0.0</text>\n<text text-anchor=\"middle\" x=\"888.5\" y=\"-149.3\" font-family=\"Helvetica,sans-Serif\" font-size=\"14.00\">samples = 4</text>\n<text text-anchor=\"middle\" x=\"888.5\" y=\"-134.3\" font-family=\"Helvetica,sans-Serif\" font-size=\"14.00\">value = [0, 4]</text>\n<text text-anchor=\"middle\" x=\"888.5\" y=\"-119.3\" font-family=\"Helvetica,sans-Serif\" font-size=\"14.00\">class = 无毒</text>\n</g>\n<!-- 17&#45;&gt;19 -->\n<g id=\"edge19\" class=\"edge\">\n<title>17&#45;&gt;19</title>\n<path fill=\"none\" stroke=\"black\" d=\"M850.62,-222.91C856.09,-211.87 862.03,-199.9 867.54,-188.77\"/>\n<polygon fill=\"black\" stroke=\"black\" points=\"870.75,-190.18 872.06,-179.67 864.48,-187.07 870.75,-190.18\"/>\n</g>\n<!-- 23 -->\n<g id=\"node24\" class=\"node\">\n<title>23</title>\n<path fill=\"#399de5\" stroke=\"black\" d=\"M1071,-536.5C1071,-536.5 978,-536.5 978,-536.5 972,-536.5 966,-530.5 966,-524.5 966,-524.5 966,-480.5 966,-480.5 966,-474.5 972,-468.5 978,-468.5 978,-468.5 1071,-468.5 1071,-468.5 1077,-468.5 1083,-474.5 1083,-480.5 1083,-480.5 1083,-524.5 1083,-524.5 1083,-530.5 1077,-536.5 1071,-536.5\"/>\n<text text-anchor=\"middle\" x=\"1024.5\" y=\"-521.3\" font-family=\"Helvetica,sans-Serif\" font-size=\"14.00\">entropy = 0.0</text>\n<text text-anchor=\"middle\" x=\"1024.5\" y=\"-506.3\" font-family=\"Helvetica,sans-Serif\" font-size=\"14.00\">samples = 1378</text>\n<text text-anchor=\"middle\" x=\"1024.5\" y=\"-491.3\" font-family=\"Helvetica,sans-Serif\" font-size=\"14.00\">value = [0, 1378]</text>\n<text text-anchor=\"middle\" x=\"1024.5\" y=\"-476.3\" font-family=\"Helvetica,sans-Serif\" font-size=\"14.00\">class = 无毒</text>\n</g>\n<!-- 22&#45;&gt;23 -->\n<g id=\"edge23\" class=\"edge\">\n<title>22&#45;&gt;23</title>\n<path fill=\"none\" stroke=\"black\" d=\"M1024.5,-579.91C1024.5,-569.2 1024.5,-557.62 1024.5,-546.78\"/>\n<polygon fill=\"black\" stroke=\"black\" points=\"1028,-546.67 1024.5,-536.67 1021,-546.67 1028,-546.67\"/>\n</g>\n<!-- 24 -->\n<g id=\"node25\" class=\"node\">\n<title>24</title>\n<path fill=\"#7bbeee\" stroke=\"black\" d=\"M1307.5,-544C1307.5,-544 1113.5,-544 1113.5,-544 1107.5,-544 1101.5,-538 1101.5,-532 1101.5,-532 1101.5,-473 1101.5,-473 1101.5,-467 1107.5,-461 1113.5,-461 1113.5,-461 1307.5,-461 1307.5,-461 1313.5,-461 1319.5,-467 1319.5,-473 1319.5,-473 1319.5,-532 1319.5,-532 1319.5,-538 1313.5,-544 1307.5,-544\"/>\n<text text-anchor=\"middle\" x=\"1210.5\" y=\"-528.8\" font-family=\"Helvetica,sans-Serif\" font-size=\"14.00\">stalk&#45;surface&#45;below&#45;ring &lt;= 0.728</text>\n<text text-anchor=\"middle\" x=\"1210.5\" y=\"-513.8\" font-family=\"Helvetica,sans-Serif\" font-size=\"14.00\">entropy = 0.813</text>\n<text text-anchor=\"middle\" x=\"1210.5\" y=\"-498.8\" font-family=\"Helvetica,sans-Serif\" font-size=\"14.00\">samples = 406</text>\n<text text-anchor=\"middle\" x=\"1210.5\" y=\"-483.8\" font-family=\"Helvetica,sans-Serif\" font-size=\"14.00\">value = [102, 304]</text>\n<text text-anchor=\"middle\" x=\"1210.5\" y=\"-468.8\" font-family=\"Helvetica,sans-Serif\" font-size=\"14.00\">class = 无毒</text>\n</g>\n<!-- 22&#45;&gt;24 -->\n<g id=\"edge24\" class=\"edge\">\n<title>22&#45;&gt;24</title>\n<path fill=\"none\" stroke=\"black\" d=\"M1089.03,-579.91C1104.61,-570.11 1121.37,-559.56 1137.32,-549.53\"/>\n<polygon fill=\"black\" stroke=\"black\" points=\"1139.48,-552.31 1146.08,-544.02 1135.75,-546.38 1139.48,-552.31\"/>\n</g>\n<!-- 25 -->\n<g id=\"node26\" class=\"node\">\n<title>25</title>\n<path fill=\"#e58139\" stroke=\"black\" d=\"M1178.5,-417.5C1178.5,-417.5 1100.5,-417.5 1100.5,-417.5 1094.5,-417.5 1088.5,-411.5 1088.5,-405.5 1088.5,-405.5 1088.5,-361.5 1088.5,-361.5 1088.5,-355.5 1094.5,-349.5 1100.5,-349.5 1100.5,-349.5 1178.5,-349.5 1178.5,-349.5 1184.5,-349.5 1190.5,-355.5 1190.5,-361.5 1190.5,-361.5 1190.5,-405.5 1190.5,-405.5 1190.5,-411.5 1184.5,-417.5 1178.5,-417.5\"/>\n<text text-anchor=\"middle\" x=\"1139.5\" y=\"-402.3\" font-family=\"Helvetica,sans-Serif\" font-size=\"14.00\">entropy = 0.0</text>\n<text text-anchor=\"middle\" x=\"1139.5\" y=\"-387.3\" font-family=\"Helvetica,sans-Serif\" font-size=\"14.00\">samples = 50</text>\n<text text-anchor=\"middle\" x=\"1139.5\" y=\"-372.3\" font-family=\"Helvetica,sans-Serif\" font-size=\"14.00\">value = [50, 0]</text>\n<text text-anchor=\"middle\" x=\"1139.5\" y=\"-357.3\" font-family=\"Helvetica,sans-Serif\" font-size=\"14.00\">class = 有毒</text>\n</g>\n<!-- 24&#45;&gt;25 -->\n<g id=\"edge25\" class=\"edge\">\n<title>24&#45;&gt;25</title>\n<path fill=\"none\" stroke=\"black\" d=\"M1185.87,-460.91C1179.1,-449.76 1171.76,-437.66 1164.95,-426.44\"/>\n<polygon fill=\"black\" stroke=\"black\" points=\"1167.81,-424.4 1159.63,-417.67 1161.82,-428.03 1167.81,-424.4\"/>\n</g>\n<!-- 26 -->\n<g id=\"node27\" class=\"node\">\n<title>26</title>\n<path fill=\"#5baee9\" stroke=\"black\" d=\"M1340,-425C1340,-425 1221,-425 1221,-425 1215,-425 1209,-419 1209,-413 1209,-413 1209,-354 1209,-354 1209,-348 1215,-342 1221,-342 1221,-342 1340,-342 1340,-342 1346,-342 1352,-348 1352,-354 1352,-354 1352,-413 1352,-413 1352,-419 1346,-425 1340,-425\"/>\n<text text-anchor=\"middle\" x=\"1280.5\" y=\"-409.8\" font-family=\"Helvetica,sans-Serif\" font-size=\"14.00\">stalk&#45;shape &lt;= 0.217</text>\n<text text-anchor=\"middle\" x=\"1280.5\" y=\"-394.8\" font-family=\"Helvetica,sans-Serif\" font-size=\"14.00\">entropy = 0.6</text>\n<text text-anchor=\"middle\" x=\"1280.5\" y=\"-379.8\" font-family=\"Helvetica,sans-Serif\" font-size=\"14.00\">samples = 356</text>\n<text text-anchor=\"middle\" x=\"1280.5\" y=\"-364.8\" font-family=\"Helvetica,sans-Serif\" font-size=\"14.00\">value = [52, 304]</text>\n<text text-anchor=\"middle\" x=\"1280.5\" y=\"-349.8\" font-family=\"Helvetica,sans-Serif\" font-size=\"14.00\">class = 无毒</text>\n</g>\n<!-- 24&#45;&gt;26 -->\n<g id=\"edge26\" class=\"edge\">\n<title>24&#45;&gt;26</title>\n<path fill=\"none\" stroke=\"black\" d=\"M1234.79,-460.91C1240.05,-452.1 1245.68,-442.7 1251.12,-433.61\"/>\n<polygon fill=\"black\" stroke=\"black\" points=\"1254.13,-435.4 1256.26,-425.02 1248.12,-431.81 1254.13,-435.4\"/>\n</g>\n<!-- 27 -->\n<g id=\"node28\" class=\"node\">\n<title>27</title>\n<path fill=\"#40a1e6\" stroke=\"black\" d=\"M1285,-306C1285,-306 1106,-306 1106,-306 1100,-306 1094,-300 1094,-294 1094,-294 1094,-235 1094,-235 1094,-229 1100,-223 1106,-223 1106,-223 1285,-223 1285,-223 1291,-223 1297,-229 1297,-235 1297,-235 1297,-294 1297,-294 1297,-300 1291,-306 1285,-306\"/>\n<text text-anchor=\"middle\" x=\"1195.5\" y=\"-290.8\" font-family=\"Helvetica,sans-Serif\" font-size=\"14.00\">stalk&#45;color&#45;below&#45;ring &lt;= 6.493</text>\n<text text-anchor=\"middle\" x=\"1195.5\" y=\"-275.8\" font-family=\"Helvetica,sans-Serif\" font-size=\"14.00\">entropy = 0.218</text>\n<text text-anchor=\"middle\" x=\"1195.5\" y=\"-260.8\" font-family=\"Helvetica,sans-Serif\" font-size=\"14.00\">samples = 315</text>\n<text text-anchor=\"middle\" x=\"1195.5\" y=\"-245.8\" font-family=\"Helvetica,sans-Serif\" font-size=\"14.00\">value = [11, 304]</text>\n<text text-anchor=\"middle\" x=\"1195.5\" y=\"-230.8\" font-family=\"Helvetica,sans-Serif\" font-size=\"14.00\">class = 无毒</text>\n</g>\n<!-- 26&#45;&gt;27 -->\n<g id=\"edge27\" class=\"edge\">\n<title>26&#45;&gt;27</title>\n<path fill=\"none\" stroke=\"black\" d=\"M1251.01,-341.91C1244.55,-333.01 1237.64,-323.51 1230.98,-314.33\"/>\n<polygon fill=\"black\" stroke=\"black\" points=\"1233.65,-312.05 1224.94,-306.02 1227.98,-316.17 1233.65,-312.05\"/>\n</g>\n<!-- 32 -->\n<g id=\"node33\" class=\"node\">\n<title>32</title>\n<path fill=\"#e58139\" stroke=\"black\" d=\"M1405.5,-298.5C1405.5,-298.5 1327.5,-298.5 1327.5,-298.5 1321.5,-298.5 1315.5,-292.5 1315.5,-286.5 1315.5,-286.5 1315.5,-242.5 1315.5,-242.5 1315.5,-236.5 1321.5,-230.5 1327.5,-230.5 1327.5,-230.5 1405.5,-230.5 1405.5,-230.5 1411.5,-230.5 1417.5,-236.5 1417.5,-242.5 1417.5,-242.5 1417.5,-286.5 1417.5,-286.5 1417.5,-292.5 1411.5,-298.5 1405.5,-298.5\"/>\n<text text-anchor=\"middle\" x=\"1366.5\" y=\"-283.3\" font-family=\"Helvetica,sans-Serif\" font-size=\"14.00\">entropy = 0.0</text>\n<text text-anchor=\"middle\" x=\"1366.5\" y=\"-268.3\" font-family=\"Helvetica,sans-Serif\" font-size=\"14.00\">samples = 41</text>\n<text text-anchor=\"middle\" x=\"1366.5\" y=\"-253.3\" font-family=\"Helvetica,sans-Serif\" font-size=\"14.00\">value = [41, 0]</text>\n<text text-anchor=\"middle\" x=\"1366.5\" y=\"-238.3\" font-family=\"Helvetica,sans-Serif\" font-size=\"14.00\">class = 有毒</text>\n</g>\n<!-- 26&#45;&gt;32 -->\n<g id=\"edge32\" class=\"edge\">\n<title>26&#45;&gt;32</title>\n<path fill=\"none\" stroke=\"black\" d=\"M1310.34,-341.91C1318.69,-330.54 1327.78,-318.18 1336.16,-306.77\"/>\n<polygon fill=\"black\" stroke=\"black\" points=\"1339.02,-308.8 1342.12,-298.67 1333.38,-304.65 1339.02,-308.8\"/>\n</g>\n<!-- 28 -->\n<g id=\"node29\" class=\"node\">\n<title>28</title>\n<path fill=\"#f8ddc9\" stroke=\"black\" d=\"M1179.5,-187C1179.5,-187 1073.5,-187 1073.5,-187 1067.5,-187 1061.5,-181 1061.5,-175 1061.5,-175 1061.5,-116 1061.5,-116 1061.5,-110 1067.5,-104 1073.5,-104 1073.5,-104 1179.5,-104 1179.5,-104 1185.5,-104 1191.5,-110 1191.5,-116 1191.5,-116 1191.5,-175 1191.5,-175 1191.5,-181 1185.5,-187 1179.5,-187\"/>\n<text text-anchor=\"middle\" x=\"1126.5\" y=\"-171.8\" font-family=\"Helvetica,sans-Serif\" font-size=\"14.00\">stalk&#45;root &lt;= 0.142</text>\n<text text-anchor=\"middle\" x=\"1126.5\" y=\"-156.8\" font-family=\"Helvetica,sans-Serif\" font-size=\"14.00\">entropy = 0.982</text>\n<text text-anchor=\"middle\" x=\"1126.5\" y=\"-141.8\" font-family=\"Helvetica,sans-Serif\" font-size=\"14.00\">samples = 19</text>\n<text text-anchor=\"middle\" x=\"1126.5\" y=\"-126.8\" font-family=\"Helvetica,sans-Serif\" font-size=\"14.00\">value = [11, 8]</text>\n<text text-anchor=\"middle\" x=\"1126.5\" y=\"-111.8\" font-family=\"Helvetica,sans-Serif\" font-size=\"14.00\">class = 有毒</text>\n</g>\n<!-- 27&#45;&gt;28 -->\n<g id=\"edge28\" class=\"edge\">\n<title>27&#45;&gt;28</title>\n<path fill=\"none\" stroke=\"black\" d=\"M1171.56,-222.91C1166.42,-214.2 1160.94,-204.9 1155.63,-195.89\"/>\n<polygon fill=\"black\" stroke=\"black\" points=\"1158.49,-193.86 1150.4,-187.02 1152.46,-197.41 1158.49,-193.86\"/>\n</g>\n<!-- 31 -->\n<g id=\"node32\" class=\"node\">\n<title>31</title>\n<path fill=\"#399de5\" stroke=\"black\" d=\"M1307.5,-179.5C1307.5,-179.5 1221.5,-179.5 1221.5,-179.5 1215.5,-179.5 1209.5,-173.5 1209.5,-167.5 1209.5,-167.5 1209.5,-123.5 1209.5,-123.5 1209.5,-117.5 1215.5,-111.5 1221.5,-111.5 1221.5,-111.5 1307.5,-111.5 1307.5,-111.5 1313.5,-111.5 1319.5,-117.5 1319.5,-123.5 1319.5,-123.5 1319.5,-167.5 1319.5,-167.5 1319.5,-173.5 1313.5,-179.5 1307.5,-179.5\"/>\n<text text-anchor=\"middle\" x=\"1264.5\" y=\"-164.3\" font-family=\"Helvetica,sans-Serif\" font-size=\"14.00\">entropy = 0.0</text>\n<text text-anchor=\"middle\" x=\"1264.5\" y=\"-149.3\" font-family=\"Helvetica,sans-Serif\" font-size=\"14.00\">samples = 296</text>\n<text text-anchor=\"middle\" x=\"1264.5\" y=\"-134.3\" font-family=\"Helvetica,sans-Serif\" font-size=\"14.00\">value = [0, 296]</text>\n<text text-anchor=\"middle\" x=\"1264.5\" y=\"-119.3\" font-family=\"Helvetica,sans-Serif\" font-size=\"14.00\">class = 无毒</text>\n</g>\n<!-- 27&#45;&gt;31 -->\n<g id=\"edge31\" class=\"edge\">\n<title>27&#45;&gt;31</title>\n<path fill=\"none\" stroke=\"black\" d=\"M1219.44,-222.91C1226.01,-211.76 1233.15,-199.66 1239.77,-188.44\"/>\n<polygon fill=\"black\" stroke=\"black\" points=\"1242.87,-190.06 1244.94,-179.67 1236.85,-186.5 1242.87,-190.06\"/>\n</g>\n<!-- 29 -->\n<g id=\"node30\" class=\"node\">\n<title>29</title>\n<path fill=\"#399de5\" stroke=\"black\" d=\"M1103.5,-68C1103.5,-68 1031.5,-68 1031.5,-68 1025.5,-68 1019.5,-62 1019.5,-56 1019.5,-56 1019.5,-12 1019.5,-12 1019.5,-6 1025.5,0 1031.5,0 1031.5,0 1103.5,0 1103.5,0 1109.5,0 1115.5,-6 1115.5,-12 1115.5,-12 1115.5,-56 1115.5,-56 1115.5,-62 1109.5,-68 1103.5,-68\"/>\n<text text-anchor=\"middle\" x=\"1067.5\" y=\"-52.8\" font-family=\"Helvetica,sans-Serif\" font-size=\"14.00\">entropy = 0.0</text>\n<text text-anchor=\"middle\" x=\"1067.5\" y=\"-37.8\" font-family=\"Helvetica,sans-Serif\" font-size=\"14.00\">samples = 8</text>\n<text text-anchor=\"middle\" x=\"1067.5\" y=\"-22.8\" font-family=\"Helvetica,sans-Serif\" font-size=\"14.00\">value = [0, 8]</text>\n<text text-anchor=\"middle\" x=\"1067.5\" y=\"-7.8\" font-family=\"Helvetica,sans-Serif\" font-size=\"14.00\">class = 无毒</text>\n</g>\n<!-- 28&#45;&gt;29 -->\n<g id=\"edge29\" class=\"edge\">\n<title>28&#45;&gt;29</title>\n<path fill=\"none\" stroke=\"black\" d=\"M1104.53,-103.73C1099.86,-95.06 1094.92,-85.9 1090.23,-77.18\"/>\n<polygon fill=\"black\" stroke=\"black\" points=\"1093.27,-75.44 1085.44,-68.3 1087.1,-78.76 1093.27,-75.44\"/>\n</g>\n<!-- 30 -->\n<g id=\"node31\" class=\"node\">\n<title>30</title>\n<path fill=\"#e58139\" stroke=\"black\" d=\"M1223,-68C1223,-68 1146,-68 1146,-68 1140,-68 1134,-62 1134,-56 1134,-56 1134,-12 1134,-12 1134,-6 1140,0 1146,0 1146,0 1223,0 1223,0 1229,0 1235,-6 1235,-12 1235,-12 1235,-56 1235,-56 1235,-62 1229,-68 1223,-68\"/>\n<text text-anchor=\"middle\" x=\"1184.5\" y=\"-52.8\" font-family=\"Helvetica,sans-Serif\" font-size=\"14.00\">entropy = 0.0</text>\n<text text-anchor=\"middle\" x=\"1184.5\" y=\"-37.8\" font-family=\"Helvetica,sans-Serif\" font-size=\"14.00\">samples = 11</text>\n<text text-anchor=\"middle\" x=\"1184.5\" y=\"-22.8\" font-family=\"Helvetica,sans-Serif\" font-size=\"14.00\">value = [11, 0]</text>\n<text text-anchor=\"middle\" x=\"1184.5\" y=\"-7.8\" font-family=\"Helvetica,sans-Serif\" font-size=\"14.00\">class = 有毒</text>\n</g>\n<!-- 28&#45;&gt;30 -->\n<g id=\"edge30\" class=\"edge\">\n<title>28&#45;&gt;30</title>\n<path fill=\"none\" stroke=\"black\" d=\"M1148.1,-103.73C1152.69,-95.06 1157.54,-85.9 1162.16,-77.18\"/>\n<polygon fill=\"black\" stroke=\"black\" points=\"1165.27,-78.77 1166.86,-68.3 1159.09,-75.5 1165.27,-78.77\"/>\n</g>\n</g>\n</svg>\n",
      "text/plain": [
       "<graphviz.sources.Source at 0x1a6c3a9fb50>"
      ]
     },
     "execution_count": 26,
     "metadata": {},
     "output_type": "execute_result"
    }
   ],
   "source": [
    "import graphviz\n",
    "dot_data=tree.export_graphviz(clf\n",
    "                             ,feature_names=feature_name\n",
    "                             ,class_names=['有毒','无毒']\n",
    "                             ,filled=True\n",
    "                             ,rounded=True)\n",
    "graph=graphviz.Source(dot_data)\n",
    "\n",
    "graph.save()\n",
    "graph\n"
   ]
  },
  {
   "cell_type": "code",
   "execution_count": null,
   "metadata": {},
   "outputs": [],
   "source": []
  }
 ],
 "metadata": {
  "kernelspec": {
   "display_name": "Python 3.9.12 ('base')",
   "language": "python",
   "name": "python3"
  },
  "language_info": {
   "codemirror_mode": {
    "name": "ipython",
    "version": 3
   },
   "file_extension": ".py",
   "mimetype": "text/x-python",
   "name": "python",
   "nbconvert_exporter": "python",
   "pygments_lexer": "ipython3",
   "version": "3.9.12"
  },
  "orig_nbformat": 4,
  "vscode": {
   "interpreter": {
    "hash": "91bb753b057673435fb8d6f6a083e6c818364728098c7ae050ca3a25357dd754"
   }
  }
 },
 "nbformat": 4,
 "nbformat_minor": 2
}
